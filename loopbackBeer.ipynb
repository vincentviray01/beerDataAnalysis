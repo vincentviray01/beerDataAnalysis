{
 "cells": [
  {
   "cell_type": "code",
   "execution_count": 1,
   "metadata": {},
   "outputs": [],
   "source": [
    "import pandas as pd\n",
    "import matplotlib.pyplot as plt\n",
    "from sklearn.decomposition import PCA\n",
    "from sklearn.preprocessing import StandardScaler\n",
    "import seaborn as sns\n",
    "import numpy as np\n",
    "%matplotlib inline\n",
    "from tqdm import tqdm\n",
    "\n",
    "import warnings\n",
    "warnings.filterwarnings(\"ignore\")"
   ]
  },
  {
   "cell_type": "markdown",
   "metadata": {},
   "source": [
    "First import any necessary packages\n"
   ]
  },
  {
   "cell_type": "code",
   "execution_count": 2,
   "metadata": {},
   "outputs": [],
   "source": [
    "beerData = pd.read_csv('beer_reviews.csv')"
   ]
  },
  {
   "cell_type": "markdown",
   "metadata": {},
   "source": [
    "Read in the data"
   ]
  },
  {
   "cell_type": "code",
   "execution_count": 39,
   "metadata": {},
   "outputs": [
    {
     "data": {
      "text/html": [
       "<div>\n",
       "<style scoped>\n",
       "    .dataframe tbody tr th:only-of-type {\n",
       "        vertical-align: middle;\n",
       "    }\n",
       "\n",
       "    .dataframe tbody tr th {\n",
       "        vertical-align: top;\n",
       "    }\n",
       "\n",
       "    .dataframe thead th {\n",
       "        text-align: right;\n",
       "    }\n",
       "</style>\n",
       "<table border=\"1\" class=\"dataframe\">\n",
       "  <thead>\n",
       "    <tr style=\"text-align: right;\">\n",
       "      <th></th>\n",
       "      <th>brewery_id</th>\n",
       "      <th>brewery_name</th>\n",
       "      <th>review_time</th>\n",
       "      <th>review_overall</th>\n",
       "      <th>review_aroma</th>\n",
       "      <th>review_appearance</th>\n",
       "      <th>review_profilename</th>\n",
       "      <th>beer_style</th>\n",
       "      <th>review_palate</th>\n",
       "      <th>review_taste</th>\n",
       "      <th>beer_name</th>\n",
       "      <th>beer_abv</th>\n",
       "      <th>beer_beerid</th>\n",
       "    </tr>\n",
       "  </thead>\n",
       "  <tbody>\n",
       "    <tr>\n",
       "      <th>0</th>\n",
       "      <td>10325</td>\n",
       "      <td>Vecchio Birraio</td>\n",
       "      <td>1234817823</td>\n",
       "      <td>1.5</td>\n",
       "      <td>2.0</td>\n",
       "      <td>2.5</td>\n",
       "      <td>stcules</td>\n",
       "      <td>Hefeweizen</td>\n",
       "      <td>1.5</td>\n",
       "      <td>1.5</td>\n",
       "      <td>Sausa Weizen</td>\n",
       "      <td>5.0</td>\n",
       "      <td>47986</td>\n",
       "    </tr>\n",
       "    <tr>\n",
       "      <th>1</th>\n",
       "      <td>10325</td>\n",
       "      <td>Vecchio Birraio</td>\n",
       "      <td>1235915097</td>\n",
       "      <td>3.0</td>\n",
       "      <td>2.5</td>\n",
       "      <td>3.0</td>\n",
       "      <td>stcules</td>\n",
       "      <td>English Strong Ale</td>\n",
       "      <td>3.0</td>\n",
       "      <td>3.0</td>\n",
       "      <td>Red Moon</td>\n",
       "      <td>6.2</td>\n",
       "      <td>48213</td>\n",
       "    </tr>\n",
       "    <tr>\n",
       "      <th>2</th>\n",
       "      <td>10325</td>\n",
       "      <td>Vecchio Birraio</td>\n",
       "      <td>1235916604</td>\n",
       "      <td>3.0</td>\n",
       "      <td>2.5</td>\n",
       "      <td>3.0</td>\n",
       "      <td>stcules</td>\n",
       "      <td>Foreign / Export Stout</td>\n",
       "      <td>3.0</td>\n",
       "      <td>3.0</td>\n",
       "      <td>Black Horse Black Beer</td>\n",
       "      <td>6.5</td>\n",
       "      <td>48215</td>\n",
       "    </tr>\n",
       "    <tr>\n",
       "      <th>3</th>\n",
       "      <td>10325</td>\n",
       "      <td>Vecchio Birraio</td>\n",
       "      <td>1234725145</td>\n",
       "      <td>3.0</td>\n",
       "      <td>3.0</td>\n",
       "      <td>3.5</td>\n",
       "      <td>stcules</td>\n",
       "      <td>German Pilsener</td>\n",
       "      <td>2.5</td>\n",
       "      <td>3.0</td>\n",
       "      <td>Sausa Pils</td>\n",
       "      <td>5.0</td>\n",
       "      <td>47969</td>\n",
       "    </tr>\n",
       "    <tr>\n",
       "      <th>4</th>\n",
       "      <td>1075</td>\n",
       "      <td>Caldera Brewing Company</td>\n",
       "      <td>1293735206</td>\n",
       "      <td>4.0</td>\n",
       "      <td>4.5</td>\n",
       "      <td>4.0</td>\n",
       "      <td>johnmichaelsen</td>\n",
       "      <td>American Double / Imperial IPA</td>\n",
       "      <td>4.0</td>\n",
       "      <td>4.5</td>\n",
       "      <td>Cauldron DIPA</td>\n",
       "      <td>7.7</td>\n",
       "      <td>64883</td>\n",
       "    </tr>\n",
       "    <tr>\n",
       "      <th>...</th>\n",
       "      <td>...</td>\n",
       "      <td>...</td>\n",
       "      <td>...</td>\n",
       "      <td>...</td>\n",
       "      <td>...</td>\n",
       "      <td>...</td>\n",
       "      <td>...</td>\n",
       "      <td>...</td>\n",
       "      <td>...</td>\n",
       "      <td>...</td>\n",
       "      <td>...</td>\n",
       "      <td>...</td>\n",
       "      <td>...</td>\n",
       "    </tr>\n",
       "    <tr>\n",
       "      <th>1586609</th>\n",
       "      <td>14359</td>\n",
       "      <td>The Defiant Brewing Company</td>\n",
       "      <td>1162684892</td>\n",
       "      <td>5.0</td>\n",
       "      <td>4.0</td>\n",
       "      <td>3.5</td>\n",
       "      <td>maddogruss</td>\n",
       "      <td>Pumpkin Ale</td>\n",
       "      <td>4.0</td>\n",
       "      <td>4.0</td>\n",
       "      <td>The Horseman's Ale</td>\n",
       "      <td>5.2</td>\n",
       "      <td>33061</td>\n",
       "    </tr>\n",
       "    <tr>\n",
       "      <th>1586610</th>\n",
       "      <td>14359</td>\n",
       "      <td>The Defiant Brewing Company</td>\n",
       "      <td>1161048566</td>\n",
       "      <td>4.0</td>\n",
       "      <td>5.0</td>\n",
       "      <td>2.5</td>\n",
       "      <td>yelterdow</td>\n",
       "      <td>Pumpkin Ale</td>\n",
       "      <td>2.0</td>\n",
       "      <td>4.0</td>\n",
       "      <td>The Horseman's Ale</td>\n",
       "      <td>5.2</td>\n",
       "      <td>33061</td>\n",
       "    </tr>\n",
       "    <tr>\n",
       "      <th>1586611</th>\n",
       "      <td>14359</td>\n",
       "      <td>The Defiant Brewing Company</td>\n",
       "      <td>1160702513</td>\n",
       "      <td>4.5</td>\n",
       "      <td>3.5</td>\n",
       "      <td>3.0</td>\n",
       "      <td>TongoRad</td>\n",
       "      <td>Pumpkin Ale</td>\n",
       "      <td>3.5</td>\n",
       "      <td>4.0</td>\n",
       "      <td>The Horseman's Ale</td>\n",
       "      <td>5.2</td>\n",
       "      <td>33061</td>\n",
       "    </tr>\n",
       "    <tr>\n",
       "      <th>1586612</th>\n",
       "      <td>14359</td>\n",
       "      <td>The Defiant Brewing Company</td>\n",
       "      <td>1160023044</td>\n",
       "      <td>4.0</td>\n",
       "      <td>4.5</td>\n",
       "      <td>4.5</td>\n",
       "      <td>dherling</td>\n",
       "      <td>Pumpkin Ale</td>\n",
       "      <td>4.5</td>\n",
       "      <td>4.5</td>\n",
       "      <td>The Horseman's Ale</td>\n",
       "      <td>5.2</td>\n",
       "      <td>33061</td>\n",
       "    </tr>\n",
       "    <tr>\n",
       "      <th>1586613</th>\n",
       "      <td>14359</td>\n",
       "      <td>The Defiant Brewing Company</td>\n",
       "      <td>1160005319</td>\n",
       "      <td>5.0</td>\n",
       "      <td>4.5</td>\n",
       "      <td>4.5</td>\n",
       "      <td>cbl2</td>\n",
       "      <td>Pumpkin Ale</td>\n",
       "      <td>4.5</td>\n",
       "      <td>4.5</td>\n",
       "      <td>The Horseman's Ale</td>\n",
       "      <td>5.2</td>\n",
       "      <td>33061</td>\n",
       "    </tr>\n",
       "  </tbody>\n",
       "</table>\n",
       "<p>1561725 rows × 13 columns</p>\n",
       "</div>"
      ],
      "text/plain": [
       "         brewery_id                 brewery_name  review_time  review_overall  \\\n",
       "0             10325              Vecchio Birraio   1234817823             1.5   \n",
       "1             10325              Vecchio Birraio   1235915097             3.0   \n",
       "2             10325              Vecchio Birraio   1235916604             3.0   \n",
       "3             10325              Vecchio Birraio   1234725145             3.0   \n",
       "4              1075      Caldera Brewing Company   1293735206             4.0   \n",
       "...             ...                          ...          ...             ...   \n",
       "1586609       14359  The Defiant Brewing Company   1162684892             5.0   \n",
       "1586610       14359  The Defiant Brewing Company   1161048566             4.0   \n",
       "1586611       14359  The Defiant Brewing Company   1160702513             4.5   \n",
       "1586612       14359  The Defiant Brewing Company   1160023044             4.0   \n",
       "1586613       14359  The Defiant Brewing Company   1160005319             5.0   \n",
       "\n",
       "         review_aroma  review_appearance review_profilename  \\\n",
       "0                 2.0                2.5            stcules   \n",
       "1                 2.5                3.0            stcules   \n",
       "2                 2.5                3.0            stcules   \n",
       "3                 3.0                3.5            stcules   \n",
       "4                 4.5                4.0     johnmichaelsen   \n",
       "...               ...                ...                ...   \n",
       "1586609           4.0                3.5         maddogruss   \n",
       "1586610           5.0                2.5          yelterdow   \n",
       "1586611           3.5                3.0           TongoRad   \n",
       "1586612           4.5                4.5           dherling   \n",
       "1586613           4.5                4.5               cbl2   \n",
       "\n",
       "                             beer_style  review_palate  review_taste  \\\n",
       "0                            Hefeweizen            1.5           1.5   \n",
       "1                    English Strong Ale            3.0           3.0   \n",
       "2                Foreign / Export Stout            3.0           3.0   \n",
       "3                       German Pilsener            2.5           3.0   \n",
       "4        American Double / Imperial IPA            4.0           4.5   \n",
       "...                                 ...            ...           ...   \n",
       "1586609                     Pumpkin Ale            4.0           4.0   \n",
       "1586610                     Pumpkin Ale            2.0           4.0   \n",
       "1586611                     Pumpkin Ale            3.5           4.0   \n",
       "1586612                     Pumpkin Ale            4.5           4.5   \n",
       "1586613                     Pumpkin Ale            4.5           4.5   \n",
       "\n",
       "                      beer_name  beer_abv  beer_beerid  \n",
       "0                  Sausa Weizen       5.0        47986  \n",
       "1                      Red Moon       6.2        48213  \n",
       "2        Black Horse Black Beer       6.5        48215  \n",
       "3                    Sausa Pils       5.0        47969  \n",
       "4                 Cauldron DIPA       7.7        64883  \n",
       "...                         ...       ...          ...  \n",
       "1586609      The Horseman's Ale       5.2        33061  \n",
       "1586610      The Horseman's Ale       5.2        33061  \n",
       "1586611      The Horseman's Ale       5.2        33061  \n",
       "1586612      The Horseman's Ale       5.2        33061  \n",
       "1586613      The Horseman's Ale       5.2        33061  \n",
       "\n",
       "[1561725 rows x 13 columns]"
      ]
     },
     "execution_count": 39,
     "metadata": {},
     "output_type": "execute_result"
    }
   ],
   "source": [
    "beerData"
   ]
  },
  {
   "cell_type": "markdown",
   "metadata": {},
   "source": [
    "# <center>Plots </center>"
   ]
  },
  {
   "cell_type": "code",
   "execution_count": 3,
   "metadata": {},
   "outputs": [
    {
     "data": {
      "image/png": "[encoded data removed]",
      "text/plain": [
       "<Figure size 864x864 with 9 Axes>"
      ]
     },
     "metadata": {
      "needs_background": "light"
     },
     "output_type": "display_data"
    }
   ],
   "source": [
    "beerData.hist(figsize=(12, 12))\n",
    "plt.show()"
   ]
  },
  {
   "cell_type": "code",
   "execution_count": 4,
   "metadata": {},
   "outputs": [
    {
     "data": {
      "image/png": "[encoded data removed]",
      "text/plain": [
       "<Figure size 864x864 with 1 Axes>"
      ]
     },
     "metadata": {
      "needs_background": "light"
     },
     "output_type": "display_data"
    }
   ],
   "source": [
    "beerData.drop(['review_time', 'brewery_id', 'beer_beerid', 'beer_abv'], axis = 1).boxplot(figsize=(12, 12), vert=False)\n",
    "plt.show()"
   ]
  },
  {
   "cell_type": "code",
   "execution_count": 5,
   "metadata": {},
   "outputs": [
    {
     "data": {
      "image/png": "[encoded data removed]",
      "text/plain": [
       "<Figure size 864x864 with 1 Axes>"
      ]
     },
     "metadata": {
      "needs_background": "light"
     },
     "output_type": "display_data"
    }
   ],
   "source": [
    "beerData.loc[:,['review_time']].boxplot(figsize=(12, 12), vert=False)\n",
    "plt.show()"
   ]
  },
  {
   "cell_type": "code",
   "execution_count": 6,
   "metadata": {},
   "outputs": [
    {
     "data": {
      "image/png": "[encoded data removed]",
      "text/plain": [
       "<Figure size 864x864 with 1 Axes>"
      ]
     },
     "metadata": {
      "needs_background": "light"
     },
     "output_type": "display_data"
    },
    {
     "data": {
      "image/png": "[encoded data removed]",
      "text/plain": [
       "<Figure size 864x864 with 1 Axes>"
      ]
     },
     "metadata": {
      "needs_background": "light"
     },
     "output_type": "display_data"
    }
   ],
   "source": [
    "beerData.loc[:,['brewery_id']].boxplot(figsize=(12, 12), vert=False)\n",
    "plt.show()\n",
    "beerData.loc[:,['beer_beerid']].boxplot(figsize=(12, 12), vert=False)\n",
    "plt.show()"
   ]
  },
  {
   "cell_type": "code",
   "execution_count": 7,
   "metadata": {},
   "outputs": [
    {
     "data": {
      "image/png": "[encoded data removed]",
      "text/plain": [
       "<Figure size 864x864 with 1 Axes>"
      ]
     },
     "metadata": {
      "needs_background": "light"
     },
     "output_type": "display_data"
    }
   ],
   "source": [
    "beerData.loc[:,['beer_abv']].boxplot(figsize=(12, 12), vert=False)\n",
    "plt.show()"
   ]
  },
  {
   "cell_type": "markdown",
   "metadata": {},
   "source": [
    "Notes:\n",
    "Most review times are more recent since the graph is skewed to the left <br>\n",
    "Most reviewes are 4 and skewed to the left <br>\n",
    "The beer alcohol by volume is skewed to the right meaning that most beers have less than 10 % alcohol <br>\n",
    "The beer_beerid and brewery shows that there are a subset of beers and breweries that are the most popular"
   ]
  },
  {
   "cell_type": "code",
   "execution_count": null,
   "metadata": {},
   "outputs": [],
   "source": []
  },
  {
   "cell_type": "code",
   "execution_count": 8,
   "metadata": {},
   "outputs": [
    {
     "data": {
      "text/html": [
       "<div>\n",
       "<style scoped>\n",
       "    .dataframe tbody tr th:only-of-type {\n",
       "        vertical-align: middle;\n",
       "    }\n",
       "\n",
       "    .dataframe tbody tr th {\n",
       "        vertical-align: top;\n",
       "    }\n",
       "\n",
       "    .dataframe thead th {\n",
       "        text-align: right;\n",
       "    }\n",
       "</style>\n",
       "<table border=\"1\" class=\"dataframe\">\n",
       "  <thead>\n",
       "    <tr style=\"text-align: right;\">\n",
       "      <th></th>\n",
       "      <th>brewery_id</th>\n",
       "      <th>review_time</th>\n",
       "      <th>review_overall</th>\n",
       "      <th>review_aroma</th>\n",
       "      <th>review_appearance</th>\n",
       "      <th>review_palate</th>\n",
       "      <th>review_taste</th>\n",
       "      <th>beer_abv</th>\n",
       "      <th>beer_beerid</th>\n",
       "    </tr>\n",
       "  </thead>\n",
       "  <tbody>\n",
       "    <tr>\n",
       "      <th>count</th>\n",
       "      <td>1586614.00000</td>\n",
       "      <td>1586614.00000</td>\n",
       "      <td>1586614.00000</td>\n",
       "      <td>1586614.00000</td>\n",
       "      <td>1586614.00000</td>\n",
       "      <td>1586614.00000</td>\n",
       "      <td>1586614.00000</td>\n",
       "      <td>1518829.00000</td>\n",
       "      <td>1586614.00000</td>\n",
       "    </tr>\n",
       "    <tr>\n",
       "      <th>mean</th>\n",
       "      <td>3130.09920</td>\n",
       "      <td>1224089280.01221</td>\n",
       "      <td>3.81558</td>\n",
       "      <td>3.73564</td>\n",
       "      <td>3.84164</td>\n",
       "      <td>3.74370</td>\n",
       "      <td>3.79286</td>\n",
       "      <td>7.04239</td>\n",
       "      <td>21712.79428</td>\n",
       "    </tr>\n",
       "    <tr>\n",
       "      <th>std</th>\n",
       "      <td>5578.10399</td>\n",
       "      <td>76544274.53924</td>\n",
       "      <td>0.72062</td>\n",
       "      <td>0.69762</td>\n",
       "      <td>0.61609</td>\n",
       "      <td>0.68222</td>\n",
       "      <td>0.73197</td>\n",
       "      <td>2.32253</td>\n",
       "      <td>21818.33600</td>\n",
       "    </tr>\n",
       "    <tr>\n",
       "      <th>min</th>\n",
       "      <td>1.00000</td>\n",
       "      <td>840672001.00000</td>\n",
       "      <td>0.00000</td>\n",
       "      <td>1.00000</td>\n",
       "      <td>0.00000</td>\n",
       "      <td>1.00000</td>\n",
       "      <td>1.00000</td>\n",
       "      <td>0.01000</td>\n",
       "      <td>3.00000</td>\n",
       "    </tr>\n",
       "    <tr>\n",
       "      <th>25%</th>\n",
       "      <td>143.00000</td>\n",
       "      <td>1173224188.25000</td>\n",
       "      <td>3.50000</td>\n",
       "      <td>3.50000</td>\n",
       "      <td>3.50000</td>\n",
       "      <td>3.50000</td>\n",
       "      <td>3.50000</td>\n",
       "      <td>5.20000</td>\n",
       "      <td>1717.00000</td>\n",
       "    </tr>\n",
       "    <tr>\n",
       "      <th>50%</th>\n",
       "      <td>429.00000</td>\n",
       "      <td>1239202881.50000</td>\n",
       "      <td>4.00000</td>\n",
       "      <td>4.00000</td>\n",
       "      <td>4.00000</td>\n",
       "      <td>4.00000</td>\n",
       "      <td>4.00000</td>\n",
       "      <td>6.50000</td>\n",
       "      <td>13906.00000</td>\n",
       "    </tr>\n",
       "    <tr>\n",
       "      <th>75%</th>\n",
       "      <td>2372.00000</td>\n",
       "      <td>1288568405.25000</td>\n",
       "      <td>4.50000</td>\n",
       "      <td>4.00000</td>\n",
       "      <td>4.00000</td>\n",
       "      <td>4.00000</td>\n",
       "      <td>4.50000</td>\n",
       "      <td>8.50000</td>\n",
       "      <td>39441.00000</td>\n",
       "    </tr>\n",
       "    <tr>\n",
       "      <th>max</th>\n",
       "      <td>28003.00000</td>\n",
       "      <td>1326285348.00000</td>\n",
       "      <td>5.00000</td>\n",
       "      <td>5.00000</td>\n",
       "      <td>5.00000</td>\n",
       "      <td>5.00000</td>\n",
       "      <td>5.00000</td>\n",
       "      <td>57.70000</td>\n",
       "      <td>77317.00000</td>\n",
       "    </tr>\n",
       "  </tbody>\n",
       "</table>\n",
       "</div>"
      ],
      "text/plain": [
       "          brewery_id       review_time review_overall   review_aroma  \\\n",
       "count  1586614.00000     1586614.00000  1586614.00000  1586614.00000   \n",
       "mean      3130.09920  1224089280.01221        3.81558        3.73564   \n",
       "std       5578.10399    76544274.53924        0.72062        0.69762   \n",
       "min          1.00000   840672001.00000        0.00000        1.00000   \n",
       "25%        143.00000  1173224188.25000        3.50000        3.50000   \n",
       "50%        429.00000  1239202881.50000        4.00000        4.00000   \n",
       "75%       2372.00000  1288568405.25000        4.50000        4.00000   \n",
       "max      28003.00000  1326285348.00000        5.00000        5.00000   \n",
       "\n",
       "      review_appearance  review_palate   review_taste       beer_abv  \\\n",
       "count     1586614.00000  1586614.00000  1586614.00000  1518829.00000   \n",
       "mean            3.84164        3.74370        3.79286        7.04239   \n",
       "std             0.61609        0.68222        0.73197        2.32253   \n",
       "min             0.00000        1.00000        1.00000        0.01000   \n",
       "25%             3.50000        3.50000        3.50000        5.20000   \n",
       "50%             4.00000        4.00000        4.00000        6.50000   \n",
       "75%             4.00000        4.00000        4.50000        8.50000   \n",
       "max             5.00000        5.00000        5.00000       57.70000   \n",
       "\n",
       "         beer_beerid  \n",
       "count  1586614.00000  \n",
       "mean     21712.79428  \n",
       "std      21818.33600  \n",
       "min          3.00000  \n",
       "25%       1717.00000  \n",
       "50%      13906.00000  \n",
       "75%      39441.00000  \n",
       "max      77317.00000  "
      ]
     },
     "execution_count": 8,
     "metadata": {},
     "output_type": "execute_result"
    }
   ],
   "source": [
    "beerData.describe().apply(lambda x: x.apply('{0:.5f}'.format))"
   ]
  },
  {
   "cell_type": "markdown",
   "metadata": {},
   "source": [
    "Get the descriptive statistics of our dataset <br>\n",
    "\n",
    "From the above, we can see that there are missing values in the 'beer_abv' column. We will ensure that this will be handled in question 1.<br>\n",
    "\n",
    "We can also see that review overall and review appearance have ratings below 0. This means that there are some faulty reviews out there y'all"
   ]
  },
  {
   "cell_type": "code",
   "execution_count": 9,
   "metadata": {},
   "outputs": [
    {
     "data": {
      "text/plain": [
       "Int64Index([37234, 39648, 39667, 653695, 653706, 653726, 653740], dtype='int64')"
      ]
     },
     "execution_count": 9,
     "metadata": {},
     "output_type": "execute_result"
    }
   ],
   "source": [
    "zeroReviewIndices = beerData[[a or b for a, b in zip(beerData['review_appearance'] < 1, beerData['review_overall'] < 1)]].index\n",
    "beerData.drop(zeroReviewIndices, inplace=True)\n",
    "zeroReviewIndices"
   ]
  },
  {
   "cell_type": "markdown",
   "metadata": {},
   "source": [
    "Next, we drop any reviews that have a rating less than 1 or greater than 5 since the ratings should only be from 1-5 <br>\n",
    "We see that there were 7 faulty reviews that have been removed"
   ]
  },
  {
   "cell_type": "code",
   "execution_count": 10,
   "metadata": {},
   "outputs": [
    {
     "name": "stdout",
     "output_type": "stream",
     "text": [
      "<class 'pandas.core.frame.DataFrame'>\n",
      "Int64Index: 1586607 entries, 0 to 1586613\n",
      "Data columns (total 13 columns):\n",
      " #   Column              Non-Null Count    Dtype  \n",
      "---  ------              --------------    -----  \n",
      " 0   brewery_id          1586607 non-null  int64  \n",
      " 1   brewery_name        1586592 non-null  object \n",
      " 2   review_time         1586607 non-null  int64  \n",
      " 3   review_overall      1586607 non-null  float64\n",
      " 4   review_aroma        1586607 non-null  float64\n",
      " 5   review_appearance   1586607 non-null  float64\n",
      " 6   review_profilename  1586259 non-null  object \n",
      " 7   beer_style          1586607 non-null  object \n",
      " 8   review_palate       1586607 non-null  float64\n",
      " 9   review_taste        1586607 non-null  float64\n",
      " 10  beer_name           1586607 non-null  object \n",
      " 11  beer_abv            1518822 non-null  float64\n",
      " 12  beer_beerid         1586607 non-null  int64  \n",
      "dtypes: float64(6), int64(3), object(4)\n",
      "memory usage: 169.5+ MB\n"
     ]
    }
   ],
   "source": [
    "beerData.info()"
   ]
  },
  {
   "cell_type": "markdown",
   "metadata": {},
   "source": [
    "From the above, we find that there is a discrepancy between the number of brewery_id and the number of brewery_names<br>\n",
    "I would think that these should be the same. This means there may be null data"
   ]
  },
  {
   "cell_type": "code",
   "execution_count": 11,
   "metadata": {},
   "outputs": [
    {
     "data": {
      "text/html": [
       "<div>\n",
       "<style scoped>\n",
       "    .dataframe tbody tr th:only-of-type {\n",
       "        vertical-align: middle;\n",
       "    }\n",
       "\n",
       "    .dataframe tbody tr th {\n",
       "        vertical-align: top;\n",
       "    }\n",
       "\n",
       "    .dataframe thead th {\n",
       "        text-align: right;\n",
       "    }\n",
       "</style>\n",
       "<table border=\"1\" class=\"dataframe\">\n",
       "  <thead>\n",
       "    <tr style=\"text-align: right;\">\n",
       "      <th></th>\n",
       "      <th>brewery_id</th>\n",
       "      <th>brewery_name</th>\n",
       "      <th>review_time</th>\n",
       "      <th>review_overall</th>\n",
       "      <th>review_aroma</th>\n",
       "      <th>review_appearance</th>\n",
       "      <th>review_profilename</th>\n",
       "      <th>beer_style</th>\n",
       "      <th>review_palate</th>\n",
       "      <th>review_taste</th>\n",
       "      <th>beer_name</th>\n",
       "      <th>beer_abv</th>\n",
       "      <th>beer_beerid</th>\n",
       "    </tr>\n",
       "  </thead>\n",
       "  <tbody>\n",
       "    <tr>\n",
       "      <th>651565</th>\n",
       "      <td>1193</td>\n",
       "      <td>NaN</td>\n",
       "      <td>1301022066</td>\n",
       "      <td>2.0</td>\n",
       "      <td>2.5</td>\n",
       "      <td>2.5</td>\n",
       "      <td>Knapp85</td>\n",
       "      <td>Vienna Lager</td>\n",
       "      <td>1.5</td>\n",
       "      <td>1.5</td>\n",
       "      <td>Engel Tyrolian Bräu WRONG BREWERY SEE SCHWABIS...</td>\n",
       "      <td>5.0</td>\n",
       "      <td>67503</td>\n",
       "    </tr>\n",
       "    <tr>\n",
       "      <th>659293</th>\n",
       "      <td>1193</td>\n",
       "      <td>NaN</td>\n",
       "      <td>1290107698</td>\n",
       "      <td>4.0</td>\n",
       "      <td>4.5</td>\n",
       "      <td>3.5</td>\n",
       "      <td>dqrull</td>\n",
       "      <td>Bock</td>\n",
       "      <td>4.0</td>\n",
       "      <td>3.5</td>\n",
       "      <td>Engel Bock Dunkel WRONG BREWERY SEE CRAILSHEIMER</td>\n",
       "      <td>7.2</td>\n",
       "      <td>63658</td>\n",
       "    </tr>\n",
       "    <tr>\n",
       "      <th>659299</th>\n",
       "      <td>1193</td>\n",
       "      <td>NaN</td>\n",
       "      <td>1289077001</td>\n",
       "      <td>3.5</td>\n",
       "      <td>3.0</td>\n",
       "      <td>3.0</td>\n",
       "      <td>dqrull</td>\n",
       "      <td>Dortmunder / Export Lager</td>\n",
       "      <td>4.0</td>\n",
       "      <td>4.0</td>\n",
       "      <td>Engel Gold WRONG BREWERY SEE CRAILSHEIMER</td>\n",
       "      <td>5.4</td>\n",
       "      <td>63215</td>\n",
       "    </tr>\n",
       "    <tr>\n",
       "      <th>659300</th>\n",
       "      <td>1193</td>\n",
       "      <td>NaN</td>\n",
       "      <td>1289851033</td>\n",
       "      <td>3.5</td>\n",
       "      <td>4.0</td>\n",
       "      <td>3.5</td>\n",
       "      <td>dqrull</td>\n",
       "      <td>Munich Helles Lager</td>\n",
       "      <td>3.5</td>\n",
       "      <td>3.0</td>\n",
       "      <td>Engel Landbier WRONG BREWERY SEE CRAILSHEIMER</td>\n",
       "      <td>4.8</td>\n",
       "      <td>63557</td>\n",
       "    </tr>\n",
       "    <tr>\n",
       "      <th>659301</th>\n",
       "      <td>1193</td>\n",
       "      <td>NaN</td>\n",
       "      <td>1289158632</td>\n",
       "      <td>3.5</td>\n",
       "      <td>4.0</td>\n",
       "      <td>4.0</td>\n",
       "      <td>dqrull</td>\n",
       "      <td>Keller Bier / Zwickel Bier</td>\n",
       "      <td>4.0</td>\n",
       "      <td>3.5</td>\n",
       "      <td>Engel Keller Hell WRONG BREWERY SEE CRAILSHEIMER</td>\n",
       "      <td>5.4</td>\n",
       "      <td>63256</td>\n",
       "    </tr>\n",
       "    <tr>\n",
       "      <th>659302</th>\n",
       "      <td>1193</td>\n",
       "      <td>NaN</td>\n",
       "      <td>1289590065</td>\n",
       "      <td>3.5</td>\n",
       "      <td>4.0</td>\n",
       "      <td>3.0</td>\n",
       "      <td>dqrull</td>\n",
       "      <td>Vienna Lager</td>\n",
       "      <td>3.0</td>\n",
       "      <td>3.5</td>\n",
       "      <td>Engel Aloisius - WRONG BREWERY SEE CRAILSHEIMER</td>\n",
       "      <td>5.9</td>\n",
       "      <td>63459</td>\n",
       "    </tr>\n",
       "    <tr>\n",
       "      <th>659303</th>\n",
       "      <td>1193</td>\n",
       "      <td>NaN</td>\n",
       "      <td>1298078926</td>\n",
       "      <td>3.0</td>\n",
       "      <td>3.0</td>\n",
       "      <td>3.0</td>\n",
       "      <td>Ochsenblut</td>\n",
       "      <td>Keller Bier / Zwickel Bier</td>\n",
       "      <td>2.0</td>\n",
       "      <td>3.0</td>\n",
       "      <td>Engel Keller Dunkel  WRONG BREWERY SEE CRAILSH...</td>\n",
       "      <td>5.3</td>\n",
       "      <td>63324</td>\n",
       "    </tr>\n",
       "    <tr>\n",
       "      <th>659304</th>\n",
       "      <td>1193</td>\n",
       "      <td>NaN</td>\n",
       "      <td>1292423271</td>\n",
       "      <td>4.5</td>\n",
       "      <td>4.0</td>\n",
       "      <td>4.0</td>\n",
       "      <td>Dentist666</td>\n",
       "      <td>Keller Bier / Zwickel Bier</td>\n",
       "      <td>4.0</td>\n",
       "      <td>4.5</td>\n",
       "      <td>Engel Keller Dunkel  WRONG BREWERY SEE CRAILSH...</td>\n",
       "      <td>5.3</td>\n",
       "      <td>63324</td>\n",
       "    </tr>\n",
       "    <tr>\n",
       "      <th>659305</th>\n",
       "      <td>1193</td>\n",
       "      <td>NaN</td>\n",
       "      <td>1289329962</td>\n",
       "      <td>3.5</td>\n",
       "      <td>3.5</td>\n",
       "      <td>4.0</td>\n",
       "      <td>dqrull</td>\n",
       "      <td>Keller Bier / Zwickel Bier</td>\n",
       "      <td>4.0</td>\n",
       "      <td>4.0</td>\n",
       "      <td>Engel Keller Dunkel  WRONG BREWERY SEE CRAILSH...</td>\n",
       "      <td>5.3</td>\n",
       "      <td>63324</td>\n",
       "    </tr>\n",
       "    <tr>\n",
       "      <th>1391043</th>\n",
       "      <td>27</td>\n",
       "      <td>NaN</td>\n",
       "      <td>1020244856</td>\n",
       "      <td>3.5</td>\n",
       "      <td>3.5</td>\n",
       "      <td>3.5</td>\n",
       "      <td>Jason</td>\n",
       "      <td>American Adjunct Lager</td>\n",
       "      <td>4.0</td>\n",
       "      <td>3.5</td>\n",
       "      <td>Hard Hat American Beer</td>\n",
       "      <td>3.8</td>\n",
       "      <td>60</td>\n",
       "    </tr>\n",
       "    <tr>\n",
       "      <th>1391049</th>\n",
       "      <td>27</td>\n",
       "      <td>NaN</td>\n",
       "      <td>1143182956</td>\n",
       "      <td>2.5</td>\n",
       "      <td>2.0</td>\n",
       "      <td>2.0</td>\n",
       "      <td>BeerBob</td>\n",
       "      <td>American Malt Liquor</td>\n",
       "      <td>2.0</td>\n",
       "      <td>2.0</td>\n",
       "      <td>Side Pocket</td>\n",
       "      <td>8.5</td>\n",
       "      <td>3394</td>\n",
       "    </tr>\n",
       "    <tr>\n",
       "      <th>1391050</th>\n",
       "      <td>27</td>\n",
       "      <td>NaN</td>\n",
       "      <td>1117963232</td>\n",
       "      <td>1.5</td>\n",
       "      <td>1.5</td>\n",
       "      <td>2.0</td>\n",
       "      <td>feloniousmonk</td>\n",
       "      <td>American Malt Liquor</td>\n",
       "      <td>1.5</td>\n",
       "      <td>1.5</td>\n",
       "      <td>Side Pocket</td>\n",
       "      <td>8.5</td>\n",
       "      <td>3394</td>\n",
       "    </tr>\n",
       "    <tr>\n",
       "      <th>1391051</th>\n",
       "      <td>27</td>\n",
       "      <td>NaN</td>\n",
       "      <td>1323314674</td>\n",
       "      <td>4.5</td>\n",
       "      <td>4.5</td>\n",
       "      <td>3.5</td>\n",
       "      <td>ccrida</td>\n",
       "      <td>American IPA</td>\n",
       "      <td>4.5</td>\n",
       "      <td>4.5</td>\n",
       "      <td>Breakaway IPA</td>\n",
       "      <td>7.2</td>\n",
       "      <td>75135</td>\n",
       "    </tr>\n",
       "    <tr>\n",
       "      <th>1391052</th>\n",
       "      <td>27</td>\n",
       "      <td>NaN</td>\n",
       "      <td>1320989774</td>\n",
       "      <td>3.5</td>\n",
       "      <td>4.0</td>\n",
       "      <td>3.5</td>\n",
       "      <td>Docer</td>\n",
       "      <td>American IPA</td>\n",
       "      <td>4.0</td>\n",
       "      <td>4.0</td>\n",
       "      <td>Breakaway IPA</td>\n",
       "      <td>7.2</td>\n",
       "      <td>75135</td>\n",
       "    </tr>\n",
       "    <tr>\n",
       "      <th>1391053</th>\n",
       "      <td>27</td>\n",
       "      <td>NaN</td>\n",
       "      <td>1320995408</td>\n",
       "      <td>5.0</td>\n",
       "      <td>4.5</td>\n",
       "      <td>4.0</td>\n",
       "      <td>Docer</td>\n",
       "      <td>American Stout</td>\n",
       "      <td>4.5</td>\n",
       "      <td>4.5</td>\n",
       "      <td>Caboose Oatmeal Stout</td>\n",
       "      <td>7.0</td>\n",
       "      <td>75137</td>\n",
       "    </tr>\n",
       "  </tbody>\n",
       "</table>\n",
       "</div>"
      ],
      "text/plain": [
       "         brewery_id brewery_name  review_time  review_overall  review_aroma  \\\n",
       "651565         1193          NaN   1301022066             2.0           2.5   \n",
       "659293         1193          NaN   1290107698             4.0           4.5   \n",
       "659299         1193          NaN   1289077001             3.5           3.0   \n",
       "659300         1193          NaN   1289851033             3.5           4.0   \n",
       "659301         1193          NaN   1289158632             3.5           4.0   \n",
       "659302         1193          NaN   1289590065             3.5           4.0   \n",
       "659303         1193          NaN   1298078926             3.0           3.0   \n",
       "659304         1193          NaN   1292423271             4.5           4.0   \n",
       "659305         1193          NaN   1289329962             3.5           3.5   \n",
       "1391043          27          NaN   1020244856             3.5           3.5   \n",
       "1391049          27          NaN   1143182956             2.5           2.0   \n",
       "1391050          27          NaN   1117963232             1.5           1.5   \n",
       "1391051          27          NaN   1323314674             4.5           4.5   \n",
       "1391052          27          NaN   1320989774             3.5           4.0   \n",
       "1391053          27          NaN   1320995408             5.0           4.5   \n",
       "\n",
       "         review_appearance review_profilename                  beer_style  \\\n",
       "651565                 2.5            Knapp85                Vienna Lager   \n",
       "659293                 3.5             dqrull                        Bock   \n",
       "659299                 3.0             dqrull   Dortmunder / Export Lager   \n",
       "659300                 3.5             dqrull         Munich Helles Lager   \n",
       "659301                 4.0             dqrull  Keller Bier / Zwickel Bier   \n",
       "659302                 3.0             dqrull                Vienna Lager   \n",
       "659303                 3.0         Ochsenblut  Keller Bier / Zwickel Bier   \n",
       "659304                 4.0         Dentist666  Keller Bier / Zwickel Bier   \n",
       "659305                 4.0             dqrull  Keller Bier / Zwickel Bier   \n",
       "1391043                3.5              Jason      American Adjunct Lager   \n",
       "1391049                2.0            BeerBob        American Malt Liquor   \n",
       "1391050                2.0      feloniousmonk        American Malt Liquor   \n",
       "1391051                3.5             ccrida                American IPA   \n",
       "1391052                3.5              Docer                American IPA   \n",
       "1391053                4.0              Docer              American Stout   \n",
       "\n",
       "         review_palate  review_taste  \\\n",
       "651565             1.5           1.5   \n",
       "659293             4.0           3.5   \n",
       "659299             4.0           4.0   \n",
       "659300             3.5           3.0   \n",
       "659301             4.0           3.5   \n",
       "659302             3.0           3.5   \n",
       "659303             2.0           3.0   \n",
       "659304             4.0           4.5   \n",
       "659305             4.0           4.0   \n",
       "1391043            4.0           3.5   \n",
       "1391049            2.0           2.0   \n",
       "1391050            1.5           1.5   \n",
       "1391051            4.5           4.5   \n",
       "1391052            4.0           4.0   \n",
       "1391053            4.5           4.5   \n",
       "\n",
       "                                                 beer_name  beer_abv  \\\n",
       "651565   Engel Tyrolian Bräu WRONG BREWERY SEE SCHWABIS...       5.0   \n",
       "659293    Engel Bock Dunkel WRONG BREWERY SEE CRAILSHEIMER       7.2   \n",
       "659299           Engel Gold WRONG BREWERY SEE CRAILSHEIMER       5.4   \n",
       "659300       Engel Landbier WRONG BREWERY SEE CRAILSHEIMER       4.8   \n",
       "659301    Engel Keller Hell WRONG BREWERY SEE CRAILSHEIMER       5.4   \n",
       "659302     Engel Aloisius - WRONG BREWERY SEE CRAILSHEIMER       5.9   \n",
       "659303   Engel Keller Dunkel  WRONG BREWERY SEE CRAILSH...       5.3   \n",
       "659304   Engel Keller Dunkel  WRONG BREWERY SEE CRAILSH...       5.3   \n",
       "659305   Engel Keller Dunkel  WRONG BREWERY SEE CRAILSH...       5.3   \n",
       "1391043                             Hard Hat American Beer       3.8   \n",
       "1391049                                        Side Pocket       8.5   \n",
       "1391050                                        Side Pocket       8.5   \n",
       "1391051                                      Breakaway IPA       7.2   \n",
       "1391052                                      Breakaway IPA       7.2   \n",
       "1391053                              Caboose Oatmeal Stout       7.0   \n",
       "\n",
       "         beer_beerid  \n",
       "651565         67503  \n",
       "659293         63658  \n",
       "659299         63215  \n",
       "659300         63557  \n",
       "659301         63256  \n",
       "659302         63459  \n",
       "659303         63324  \n",
       "659304         63324  \n",
       "659305         63324  \n",
       "1391043           60  \n",
       "1391049         3394  \n",
       "1391050         3394  \n",
       "1391051        75135  \n",
       "1391052        75135  \n",
       "1391053        75137  "
      ]
     },
     "execution_count": 11,
     "metadata": {},
     "output_type": "execute_result"
    }
   ],
   "source": [
    "beerData[beerData.loc[:, 'brewery_name'].isnull()]"
   ]
  },
  {
   "cell_type": "markdown",
   "metadata": {},
   "source": [
    "From here, we can see that brewery id 1193 and brewery id 27 have no brewery name\n",
    "We check to make sure that these breweries really have no name by getting all of the reviews from brewery id 1193 and brewery id 27 and seeing if any name appears"
   ]
  },
  {
   "cell_type": "code",
   "execution_count": 12,
   "metadata": {},
   "outputs": [
    {
     "data": {
      "text/html": [
       "<div>\n",
       "<style scoped>\n",
       "    .dataframe tbody tr th:only-of-type {\n",
       "        vertical-align: middle;\n",
       "    }\n",
       "\n",
       "    .dataframe tbody tr th {\n",
       "        vertical-align: top;\n",
       "    }\n",
       "\n",
       "    .dataframe thead th {\n",
       "        text-align: right;\n",
       "    }\n",
       "</style>\n",
       "<table border=\"1\" class=\"dataframe\">\n",
       "  <thead>\n",
       "    <tr style=\"text-align: right;\">\n",
       "      <th></th>\n",
       "      <th>brewery_id</th>\n",
       "      <th>brewery_name</th>\n",
       "      <th>review_time</th>\n",
       "      <th>review_overall</th>\n",
       "      <th>review_aroma</th>\n",
       "      <th>review_appearance</th>\n",
       "      <th>review_profilename</th>\n",
       "      <th>beer_style</th>\n",
       "      <th>review_palate</th>\n",
       "      <th>review_taste</th>\n",
       "      <th>beer_name</th>\n",
       "      <th>beer_abv</th>\n",
       "      <th>beer_beerid</th>\n",
       "    </tr>\n",
       "  </thead>\n",
       "  <tbody>\n",
       "    <tr>\n",
       "      <th>651565</th>\n",
       "      <td>1193</td>\n",
       "      <td>NaN</td>\n",
       "      <td>1301022066</td>\n",
       "      <td>2.0</td>\n",
       "      <td>2.5</td>\n",
       "      <td>2.5</td>\n",
       "      <td>Knapp85</td>\n",
       "      <td>Vienna Lager</td>\n",
       "      <td>1.5</td>\n",
       "      <td>1.5</td>\n",
       "      <td>Engel Tyrolian Bräu WRONG BREWERY SEE SCHWABIS...</td>\n",
       "      <td>5.0</td>\n",
       "      <td>67503</td>\n",
       "    </tr>\n",
       "    <tr>\n",
       "      <th>659293</th>\n",
       "      <td>1193</td>\n",
       "      <td>NaN</td>\n",
       "      <td>1290107698</td>\n",
       "      <td>4.0</td>\n",
       "      <td>4.5</td>\n",
       "      <td>3.5</td>\n",
       "      <td>dqrull</td>\n",
       "      <td>Bock</td>\n",
       "      <td>4.0</td>\n",
       "      <td>3.5</td>\n",
       "      <td>Engel Bock Dunkel WRONG BREWERY SEE CRAILSHEIMER</td>\n",
       "      <td>7.2</td>\n",
       "      <td>63658</td>\n",
       "    </tr>\n",
       "    <tr>\n",
       "      <th>659299</th>\n",
       "      <td>1193</td>\n",
       "      <td>NaN</td>\n",
       "      <td>1289077001</td>\n",
       "      <td>3.5</td>\n",
       "      <td>3.0</td>\n",
       "      <td>3.0</td>\n",
       "      <td>dqrull</td>\n",
       "      <td>Dortmunder / Export Lager</td>\n",
       "      <td>4.0</td>\n",
       "      <td>4.0</td>\n",
       "      <td>Engel Gold WRONG BREWERY SEE CRAILSHEIMER</td>\n",
       "      <td>5.4</td>\n",
       "      <td>63215</td>\n",
       "    </tr>\n",
       "    <tr>\n",
       "      <th>659300</th>\n",
       "      <td>1193</td>\n",
       "      <td>NaN</td>\n",
       "      <td>1289851033</td>\n",
       "      <td>3.5</td>\n",
       "      <td>4.0</td>\n",
       "      <td>3.5</td>\n",
       "      <td>dqrull</td>\n",
       "      <td>Munich Helles Lager</td>\n",
       "      <td>3.5</td>\n",
       "      <td>3.0</td>\n",
       "      <td>Engel Landbier WRONG BREWERY SEE CRAILSHEIMER</td>\n",
       "      <td>4.8</td>\n",
       "      <td>63557</td>\n",
       "    </tr>\n",
       "    <tr>\n",
       "      <th>659301</th>\n",
       "      <td>1193</td>\n",
       "      <td>NaN</td>\n",
       "      <td>1289158632</td>\n",
       "      <td>3.5</td>\n",
       "      <td>4.0</td>\n",
       "      <td>4.0</td>\n",
       "      <td>dqrull</td>\n",
       "      <td>Keller Bier / Zwickel Bier</td>\n",
       "      <td>4.0</td>\n",
       "      <td>3.5</td>\n",
       "      <td>Engel Keller Hell WRONG BREWERY SEE CRAILSHEIMER</td>\n",
       "      <td>5.4</td>\n",
       "      <td>63256</td>\n",
       "    </tr>\n",
       "    <tr>\n",
       "      <th>659302</th>\n",
       "      <td>1193</td>\n",
       "      <td>NaN</td>\n",
       "      <td>1289590065</td>\n",
       "      <td>3.5</td>\n",
       "      <td>4.0</td>\n",
       "      <td>3.0</td>\n",
       "      <td>dqrull</td>\n",
       "      <td>Vienna Lager</td>\n",
       "      <td>3.0</td>\n",
       "      <td>3.5</td>\n",
       "      <td>Engel Aloisius - WRONG BREWERY SEE CRAILSHEIMER</td>\n",
       "      <td>5.9</td>\n",
       "      <td>63459</td>\n",
       "    </tr>\n",
       "    <tr>\n",
       "      <th>659303</th>\n",
       "      <td>1193</td>\n",
       "      <td>NaN</td>\n",
       "      <td>1298078926</td>\n",
       "      <td>3.0</td>\n",
       "      <td>3.0</td>\n",
       "      <td>3.0</td>\n",
       "      <td>Ochsenblut</td>\n",
       "      <td>Keller Bier / Zwickel Bier</td>\n",
       "      <td>2.0</td>\n",
       "      <td>3.0</td>\n",
       "      <td>Engel Keller Dunkel  WRONG BREWERY SEE CRAILSH...</td>\n",
       "      <td>5.3</td>\n",
       "      <td>63324</td>\n",
       "    </tr>\n",
       "    <tr>\n",
       "      <th>659304</th>\n",
       "      <td>1193</td>\n",
       "      <td>NaN</td>\n",
       "      <td>1292423271</td>\n",
       "      <td>4.5</td>\n",
       "      <td>4.0</td>\n",
       "      <td>4.0</td>\n",
       "      <td>Dentist666</td>\n",
       "      <td>Keller Bier / Zwickel Bier</td>\n",
       "      <td>4.0</td>\n",
       "      <td>4.5</td>\n",
       "      <td>Engel Keller Dunkel  WRONG BREWERY SEE CRAILSH...</td>\n",
       "      <td>5.3</td>\n",
       "      <td>63324</td>\n",
       "    </tr>\n",
       "    <tr>\n",
       "      <th>659305</th>\n",
       "      <td>1193</td>\n",
       "      <td>NaN</td>\n",
       "      <td>1289329962</td>\n",
       "      <td>3.5</td>\n",
       "      <td>3.5</td>\n",
       "      <td>4.0</td>\n",
       "      <td>dqrull</td>\n",
       "      <td>Keller Bier / Zwickel Bier</td>\n",
       "      <td>4.0</td>\n",
       "      <td>4.0</td>\n",
       "      <td>Engel Keller Dunkel  WRONG BREWERY SEE CRAILSH...</td>\n",
       "      <td>5.3</td>\n",
       "      <td>63324</td>\n",
       "    </tr>\n",
       "    <tr>\n",
       "      <th>1391043</th>\n",
       "      <td>27</td>\n",
       "      <td>NaN</td>\n",
       "      <td>1020244856</td>\n",
       "      <td>3.5</td>\n",
       "      <td>3.5</td>\n",
       "      <td>3.5</td>\n",
       "      <td>Jason</td>\n",
       "      <td>American Adjunct Lager</td>\n",
       "      <td>4.0</td>\n",
       "      <td>3.5</td>\n",
       "      <td>Hard Hat American Beer</td>\n",
       "      <td>3.8</td>\n",
       "      <td>60</td>\n",
       "    </tr>\n",
       "    <tr>\n",
       "      <th>1391049</th>\n",
       "      <td>27</td>\n",
       "      <td>NaN</td>\n",
       "      <td>1143182956</td>\n",
       "      <td>2.5</td>\n",
       "      <td>2.0</td>\n",
       "      <td>2.0</td>\n",
       "      <td>BeerBob</td>\n",
       "      <td>American Malt Liquor</td>\n",
       "      <td>2.0</td>\n",
       "      <td>2.0</td>\n",
       "      <td>Side Pocket</td>\n",
       "      <td>8.5</td>\n",
       "      <td>3394</td>\n",
       "    </tr>\n",
       "    <tr>\n",
       "      <th>1391050</th>\n",
       "      <td>27</td>\n",
       "      <td>NaN</td>\n",
       "      <td>1117963232</td>\n",
       "      <td>1.5</td>\n",
       "      <td>1.5</td>\n",
       "      <td>2.0</td>\n",
       "      <td>feloniousmonk</td>\n",
       "      <td>American Malt Liquor</td>\n",
       "      <td>1.5</td>\n",
       "      <td>1.5</td>\n",
       "      <td>Side Pocket</td>\n",
       "      <td>8.5</td>\n",
       "      <td>3394</td>\n",
       "    </tr>\n",
       "    <tr>\n",
       "      <th>1391051</th>\n",
       "      <td>27</td>\n",
       "      <td>NaN</td>\n",
       "      <td>1323314674</td>\n",
       "      <td>4.5</td>\n",
       "      <td>4.5</td>\n",
       "      <td>3.5</td>\n",
       "      <td>ccrida</td>\n",
       "      <td>American IPA</td>\n",
       "      <td>4.5</td>\n",
       "      <td>4.5</td>\n",
       "      <td>Breakaway IPA</td>\n",
       "      <td>7.2</td>\n",
       "      <td>75135</td>\n",
       "    </tr>\n",
       "    <tr>\n",
       "      <th>1391052</th>\n",
       "      <td>27</td>\n",
       "      <td>NaN</td>\n",
       "      <td>1320989774</td>\n",
       "      <td>3.5</td>\n",
       "      <td>4.0</td>\n",
       "      <td>3.5</td>\n",
       "      <td>Docer</td>\n",
       "      <td>American IPA</td>\n",
       "      <td>4.0</td>\n",
       "      <td>4.0</td>\n",
       "      <td>Breakaway IPA</td>\n",
       "      <td>7.2</td>\n",
       "      <td>75135</td>\n",
       "    </tr>\n",
       "    <tr>\n",
       "      <th>1391053</th>\n",
       "      <td>27</td>\n",
       "      <td>NaN</td>\n",
       "      <td>1320995408</td>\n",
       "      <td>5.0</td>\n",
       "      <td>4.5</td>\n",
       "      <td>4.0</td>\n",
       "      <td>Docer</td>\n",
       "      <td>American Stout</td>\n",
       "      <td>4.5</td>\n",
       "      <td>4.5</td>\n",
       "      <td>Caboose Oatmeal Stout</td>\n",
       "      <td>7.0</td>\n",
       "      <td>75137</td>\n",
       "    </tr>\n",
       "  </tbody>\n",
       "</table>\n",
       "</div>"
      ],
      "text/plain": [
       "         brewery_id brewery_name  review_time  review_overall  review_aroma  \\\n",
       "651565         1193          NaN   1301022066             2.0           2.5   \n",
       "659293         1193          NaN   1290107698             4.0           4.5   \n",
       "659299         1193          NaN   1289077001             3.5           3.0   \n",
       "659300         1193          NaN   1289851033             3.5           4.0   \n",
       "659301         1193          NaN   1289158632             3.5           4.0   \n",
       "659302         1193          NaN   1289590065             3.5           4.0   \n",
       "659303         1193          NaN   1298078926             3.0           3.0   \n",
       "659304         1193          NaN   1292423271             4.5           4.0   \n",
       "659305         1193          NaN   1289329962             3.5           3.5   \n",
       "1391043          27          NaN   1020244856             3.5           3.5   \n",
       "1391049          27          NaN   1143182956             2.5           2.0   \n",
       "1391050          27          NaN   1117963232             1.5           1.5   \n",
       "1391051          27          NaN   1323314674             4.5           4.5   \n",
       "1391052          27          NaN   1320989774             3.5           4.0   \n",
       "1391053          27          NaN   1320995408             5.0           4.5   \n",
       "\n",
       "         review_appearance review_profilename                  beer_style  \\\n",
       "651565                 2.5            Knapp85                Vienna Lager   \n",
       "659293                 3.5             dqrull                        Bock   \n",
       "659299                 3.0             dqrull   Dortmunder / Export Lager   \n",
       "659300                 3.5             dqrull         Munich Helles Lager   \n",
       "659301                 4.0             dqrull  Keller Bier / Zwickel Bier   \n",
       "659302                 3.0             dqrull                Vienna Lager   \n",
       "659303                 3.0         Ochsenblut  Keller Bier / Zwickel Bier   \n",
       "659304                 4.0         Dentist666  Keller Bier / Zwickel Bier   \n",
       "659305                 4.0             dqrull  Keller Bier / Zwickel Bier   \n",
       "1391043                3.5              Jason      American Adjunct Lager   \n",
       "1391049                2.0            BeerBob        American Malt Liquor   \n",
       "1391050                2.0      feloniousmonk        American Malt Liquor   \n",
       "1391051                3.5             ccrida                American IPA   \n",
       "1391052                3.5              Docer                American IPA   \n",
       "1391053                4.0              Docer              American Stout   \n",
       "\n",
       "         review_palate  review_taste  \\\n",
       "651565             1.5           1.5   \n",
       "659293             4.0           3.5   \n",
       "659299             4.0           4.0   \n",
       "659300             3.5           3.0   \n",
       "659301             4.0           3.5   \n",
       "659302             3.0           3.5   \n",
       "659303             2.0           3.0   \n",
       "659304             4.0           4.5   \n",
       "659305             4.0           4.0   \n",
       "1391043            4.0           3.5   \n",
       "1391049            2.0           2.0   \n",
       "1391050            1.5           1.5   \n",
       "1391051            4.5           4.5   \n",
       "1391052            4.0           4.0   \n",
       "1391053            4.5           4.5   \n",
       "\n",
       "                                                 beer_name  beer_abv  \\\n",
       "651565   Engel Tyrolian Bräu WRONG BREWERY SEE SCHWABIS...       5.0   \n",
       "659293    Engel Bock Dunkel WRONG BREWERY SEE CRAILSHEIMER       7.2   \n",
       "659299           Engel Gold WRONG BREWERY SEE CRAILSHEIMER       5.4   \n",
       "659300       Engel Landbier WRONG BREWERY SEE CRAILSHEIMER       4.8   \n",
       "659301    Engel Keller Hell WRONG BREWERY SEE CRAILSHEIMER       5.4   \n",
       "659302     Engel Aloisius - WRONG BREWERY SEE CRAILSHEIMER       5.9   \n",
       "659303   Engel Keller Dunkel  WRONG BREWERY SEE CRAILSH...       5.3   \n",
       "659304   Engel Keller Dunkel  WRONG BREWERY SEE CRAILSH...       5.3   \n",
       "659305   Engel Keller Dunkel  WRONG BREWERY SEE CRAILSH...       5.3   \n",
       "1391043                             Hard Hat American Beer       3.8   \n",
       "1391049                                        Side Pocket       8.5   \n",
       "1391050                                        Side Pocket       8.5   \n",
       "1391051                                      Breakaway IPA       7.2   \n",
       "1391052                                      Breakaway IPA       7.2   \n",
       "1391053                              Caboose Oatmeal Stout       7.0   \n",
       "\n",
       "         beer_beerid  \n",
       "651565         67503  \n",
       "659293         63658  \n",
       "659299         63215  \n",
       "659300         63557  \n",
       "659301         63256  \n",
       "659302         63459  \n",
       "659303         63324  \n",
       "659304         63324  \n",
       "659305         63324  \n",
       "1391043           60  \n",
       "1391049         3394  \n",
       "1391050         3394  \n",
       "1391051        75135  \n",
       "1391052        75135  \n",
       "1391053        75137  "
      ]
     },
     "execution_count": 12,
     "metadata": {},
     "output_type": "execute_result"
    }
   ],
   "source": [
    "beerData[[a or b for a, b in zip(beerData['brewery_id'] == 27, beerData['brewery_id'] == 1193)]]"
   ]
  },
  {
   "cell_type": "markdown",
   "metadata": {},
   "source": [
    "# Indeed, there are no names. So we will replace these NaNs with their brewery id"
   ]
  },
  {
   "cell_type": "code",
   "execution_count": 13,
   "metadata": {},
   "outputs": [],
   "source": [
    "beerData['brewery_name'] = beerData['brewery_name'].fillna(beerData['brewery_id'])"
   ]
  },
  {
   "cell_type": "code",
   "execution_count": 14,
   "metadata": {},
   "outputs": [
    {
     "name": "stdout",
     "output_type": "stream",
     "text": [
      "<class 'pandas.core.frame.DataFrame'>\n",
      "Int64Index: 1586607 entries, 0 to 1586613\n",
      "Data columns (total 13 columns):\n",
      " #   Column              Non-Null Count    Dtype  \n",
      "---  ------              --------------    -----  \n",
      " 0   brewery_id          1586607 non-null  int64  \n",
      " 1   brewery_name        1586607 non-null  object \n",
      " 2   review_time         1586607 non-null  int64  \n",
      " 3   review_overall      1586607 non-null  float64\n",
      " 4   review_aroma        1586607 non-null  float64\n",
      " 5   review_appearance   1586607 non-null  float64\n",
      " 6   review_profilename  1586259 non-null  object \n",
      " 7   beer_style          1586607 non-null  object \n",
      " 8   review_palate       1586607 non-null  float64\n",
      " 9   review_taste        1586607 non-null  float64\n",
      " 10  beer_name           1586607 non-null  object \n",
      " 11  beer_abv            1518822 non-null  float64\n",
      " 12  beer_beerid         1586607 non-null  int64  \n",
      "dtypes: float64(6), int64(3), object(4)\n",
      "memory usage: 169.5+ MB\n"
     ]
    }
   ],
   "source": [
    "beerData.info()"
   ]
  },
  {
   "cell_type": "code",
   "execution_count": 15,
   "metadata": {},
   "outputs": [
    {
     "name": "stdout",
     "output_type": "stream",
     "text": [
      "brewery_id                0\n",
      "brewery_name              0\n",
      "review_time               0\n",
      "review_overall            0\n",
      "review_aroma              0\n",
      "review_appearance         0\n",
      "review_profilename      348\n",
      "beer_style                0\n",
      "review_palate             0\n",
      "review_taste              0\n",
      "beer_name                 0\n",
      "beer_abv              67785\n",
      "beer_beerid               0\n",
      "dtype: int64\n"
     ]
    }
   ],
   "source": [
    "print(beerData.isnull().sum())"
   ]
  },
  {
   "cell_type": "markdown",
   "metadata": {},
   "source": [
    "We see that there are still missing Review Profile Names, but as we can not uniquely identify the reviewer with other columns, we won't be able to tell if there have been additional duplicate reviews by the same reviewer\n",
    "\n",
    "There are also missing beer_abv (beer alcohol by volume. We must remove these rows if it is relevant to the question we are asking. Otherwise, the other columns are still perfectly good data"
   ]
  },
  {
   "cell_type": "code",
   "execution_count": 16,
   "metadata": {},
   "outputs": [
    {
     "data": {
      "text/plain": [
       "brewery_id               5840\n",
       "brewery_name             5744\n",
       "review_time           1577953\n",
       "review_overall              9\n",
       "review_aroma                9\n",
       "review_appearance           9\n",
       "review_profilename      33387\n",
       "beer_style                104\n",
       "review_palate               9\n",
       "review_taste                9\n",
       "beer_name               56857\n",
       "beer_abv                  530\n",
       "beer_beerid             66055\n",
       "dtype: int64"
      ]
     },
     "execution_count": 16,
     "metadata": {},
     "output_type": "execute_result"
    }
   ],
   "source": [
    "beerData.nunique()"
   ]
  },
  {
   "cell_type": "code",
   "execution_count": null,
   "metadata": {},
   "outputs": [],
   "source": []
  },
  {
   "cell_type": "markdown",
   "metadata": {},
   "source": [
    "# Next we check if there are any duplicate reviews\n",
    "When there are duplicate values, we only want to keep the most recently updated one<br>\n",
    "We keep the review_time that is the highest (most recent)"
   ]
  },
  {
   "cell_type": "code",
   "execution_count": 17,
   "metadata": {},
   "outputs": [],
   "source": [
    "beerData.drop_duplicates(subset=['review_profilename', 'beer_name'], keep='last', inplace=True)"
   ]
  },
  {
   "cell_type": "code",
   "execution_count": null,
   "metadata": {},
   "outputs": [],
   "source": []
  },
  {
   "cell_type": "markdown",
   "metadata": {},
   "source": [
    "For the following Questions<br><br>\n",
    "\n",
    "We can remove the 'beer_beerid' column, since it's just a psuedonym of the 'beer_name' column and we want the actual beer name rather than the beer id<br>\n",
    "We can remove the 'brewery_id' column, since it's just a psuedonym of the 'brewery_name' column and we want the actual brewery name rather than the brewery id<br>\n",
    "We can remove the 'review_time' column, since the questions don't require time-series analysis and beers don't really change over the years <br>\n",
    "We can remove the 'review_profilename' column since we only needed it to check for preprocessing and removing duplicate reviews by the same reviewer\n"
   ]
  },
  {
   "cell_type": "code",
   "execution_count": 18,
   "metadata": {},
   "outputs": [],
   "source": [
    "# beerData.drop(['brewery_id', 'review_time', 'review_profilename', 'beer_beerid'], axis = 1, inplace=True)"
   ]
  },
  {
   "cell_type": "code",
   "execution_count": null,
   "metadata": {},
   "outputs": [],
   "source": []
  },
  {
   "cell_type": "code",
   "execution_count": null,
   "metadata": {},
   "outputs": [],
   "source": []
  },
  {
   "cell_type": "code",
   "execution_count": null,
   "metadata": {},
   "outputs": [],
   "source": []
  },
  {
   "cell_type": "code",
   "execution_count": null,
   "metadata": {},
   "outputs": [],
   "source": []
  },
  {
   "cell_type": "markdown",
   "metadata": {},
   "source": [
    "# <center>Question 1</center>\n",
    "#  Which brewery produces the strongest beers by ABV%?"
   ]
  },
  {
   "cell_type": "markdown",
   "metadata": {},
   "source": [
    "Normally, I would just take the median and mean of each brewery and pick the brewery with the highest values.\n",
    "But since the question states the strongest \"beers\" and not the just \"beer\", we have to quantify what subset of the data counts as \"strong\", and once we have this subset, we can then take the median and mean of these breweries."
   ]
  },
  {
   "cell_type": "markdown",
   "metadata": {},
   "source": [
    "We will assume that \"strong\" means the top 99% of alcoholic percentages\n",
    "\n",
    "In a real project, I would talk with my team and clients to better quantify \"strong\"."
   ]
  },
  {
   "cell_type": "markdown",
   "metadata": {},
   "source": [
    "Ensure that we only choose breweries that have over a certain threshold of reviews and a certain threshold of unique reviewers."
   ]
  },
  {
   "cell_type": "markdown",
   "metadata": {},
   "source": [
    "We want the strongest drinks, so we look for a threshold of what alcohol % threshold by viewing a cumulative histogram\n"
   ]
  },
  {
   "cell_type": "code",
   "execution_count": 19,
   "metadata": {},
   "outputs": [
    {
     "data": {
      "image/png": "[encoded data removed]",
      "text/plain": [
       "<Figure size 432x288 with 1 Axes>"
      ]
     },
     "metadata": {
      "needs_background": "light"
     },
     "output_type": "display_data"
    }
   ],
   "source": [
    "fig = plt.figure()\n",
    "plt.hist(beerData['beer_abv'], cumulative=True, align='right', bins=1000, density=True)\n",
    "# plt.xlabel = \"Alcohol Percentage (%)\"\n",
    "plt.xlabel(\"Alcohol Percentage (%)\")\n",
    "plt.ylabel(\"Cumulative Percemtage (%)\")\n",
    "plt.title(\"Alcohol By Volume Cumulative Percentage\")\n",
    "plt.axhline(0.99, color = \"r\")\n",
    "plt.axvline(sorted(list(beerData['beer_abv'].dropna()))[int(beerData.dropna().shape[0]*0.99)], color = \"r\")\n",
    "\n",
    "plt.show()"
   ]
  },
  {
   "cell_type": "markdown",
   "metadata": {},
   "source": [
    "The above graph is a cumulative distribution based on the alcohol percentages of all the beers in our data <br>\n",
    "\n",
    "The horizontal line is the 99% percentile in general <br><br>\n",
    "The vertical line from the intersection of the horizontal line with our data (the blue) is the threshold of the alcohol percentage that indicates that 99% of beers have a alcohol percentage at most the value of the vertical line<br>\n",
    "\n",
    "We can see that the vertical line intersects the x-axis at around 14-15.\n",
    "\n",
    "We calculate the exact intersection by sorting the alcohol by volume data and getting the 99th quantile."
   ]
  },
  {
   "cell_type": "code",
   "execution_count": 20,
   "metadata": {},
   "outputs": [
    {
     "data": {
      "text/plain": [
       "14.0"
      ]
     },
     "execution_count": 20,
     "metadata": {},
     "output_type": "execute_result"
    }
   ],
   "source": [
    "sortedBeerABVsorted = sorted(list(beerData['beer_abv'].dropna()))\n",
    "sortedBeerABVsorted[int(len(sortedBeerABVsorted) * 0.99)]"
   ]
  },
  {
   "cell_type": "markdown",
   "metadata": {},
   "source": [
    "Therefore, the threshold for the top 99% of alcohol percentage is 14.0"
   ]
  },
  {
   "cell_type": "code",
   "execution_count": 21,
   "metadata": {},
   "outputs": [],
   "source": [
    "beerDataOverThreshold = beerData[beerData['beer_abv'] > 14]\n",
    "\n",
    "beerDataOverThreshold.dropna(inplace= True)"
   ]
  },
  {
   "cell_type": "markdown",
   "metadata": {},
   "source": [
    "We filter the beer data by the above threshold and remove any reviews whose beer has a NaN value for the alcohol by beverage"
   ]
  },
  {
   "cell_type": "markdown",
   "metadata": {},
   "source": [
    "## Now we get the median and mean values of all beers from a brewery that have been filtered by the beer alcohol percentage threshold"
   ]
  },
  {
   "cell_type": "code",
   "execution_count": 22,
   "metadata": {},
   "outputs": [],
   "source": [
    "groupedMean = beerDataOverThreshold.groupby(by = 'brewery_name', as_index=False).agg({'beer_abv': 'mean', 'review_profilename': pd.Series.nunique, 'review_overall': 'count'}).rename(columns={'review_profilename': 'unique_reviewers', 'review_overall': 'total_reviews'})"
   ]
  },
  {
   "cell_type": "markdown",
   "metadata": {},
   "source": [
    "Group the reviews by the breweries and get the mean average of the alcohol by volume of all beers sold at each brewery"
   ]
  },
  {
   "cell_type": "code",
   "execution_count": 23,
   "metadata": {},
   "outputs": [],
   "source": [
    "# If the data does not have at least 10 unique reviewers and 10 reviews, then remove it\n",
    "insufficientReviewsIndex = groupedMean[[a or b for a, b in zip(groupedMean['unique_reviewers'] < 10, groupedMean['total_reviews'] < 10)]].index\n",
    "groupedMean.drop(insufficientReviewsIndex, inplace=True)"
   ]
  },
  {
   "cell_type": "markdown",
   "metadata": {},
   "source": [
    "Remove any breweries that have less than 10 reviews or have less than 10 unique reviewers reviewing the brewery"
   ]
  },
  {
   "cell_type": "code",
   "execution_count": 24,
   "metadata": {},
   "outputs": [
    {
     "data": {
      "text/html": [
       "<div>\n",
       "<style scoped>\n",
       "    .dataframe tbody tr th:only-of-type {\n",
       "        vertical-align: middle;\n",
       "    }\n",
       "\n",
       "    .dataframe tbody tr th {\n",
       "        vertical-align: top;\n",
       "    }\n",
       "\n",
       "    .dataframe thead th {\n",
       "        text-align: right;\n",
       "    }\n",
       "</style>\n",
       "<table border=\"1\" class=\"dataframe\">\n",
       "  <thead>\n",
       "    <tr style=\"text-align: right;\">\n",
       "      <th></th>\n",
       "      <th>brewery_name</th>\n",
       "      <th>beer_abv</th>\n",
       "    </tr>\n",
       "  </thead>\n",
       "  <tbody>\n",
       "    <tr>\n",
       "      <th>53</th>\n",
       "      <td>Schorschbräu</td>\n",
       "      <td>29.913846</td>\n",
       "    </tr>\n",
       "    <tr>\n",
       "      <th>31</th>\n",
       "      <td>Hair of the Dog Brewing Company / Brewery and ...</td>\n",
       "      <td>29.000000</td>\n",
       "    </tr>\n",
       "    <tr>\n",
       "      <th>17</th>\n",
       "      <td>De Struise Brouwers</td>\n",
       "      <td>26.277778</td>\n",
       "    </tr>\n",
       "    <tr>\n",
       "      <th>12</th>\n",
       "      <td>BrewDog</td>\n",
       "      <td>25.866667</td>\n",
       "    </tr>\n",
       "    <tr>\n",
       "      <th>11</th>\n",
       "      <td>Boston Beer Company (Samuel Adams)</td>\n",
       "      <td>21.188167</td>\n",
       "    </tr>\n",
       "    <tr>\n",
       "      <th>21</th>\n",
       "      <td>DuClaw Brewing Company</td>\n",
       "      <td>20.018113</td>\n",
       "    </tr>\n",
       "    <tr>\n",
       "      <th>60</th>\n",
       "      <td>Sonoran Brewing Company</td>\n",
       "      <td>19.441290</td>\n",
       "    </tr>\n",
       "    <tr>\n",
       "      <th>13</th>\n",
       "      <td>Bristol Brewing Company</td>\n",
       "      <td>18.400000</td>\n",
       "    </tr>\n",
       "    <tr>\n",
       "      <th>61</th>\n",
       "      <td>Southampton Publick House</td>\n",
       "      <td>18.000000</td>\n",
       "    </tr>\n",
       "    <tr>\n",
       "      <th>40</th>\n",
       "      <td>Mikkeller ApS</td>\n",
       "      <td>17.595322</td>\n",
       "    </tr>\n",
       "  </tbody>\n",
       "</table>\n",
       "</div>"
      ],
      "text/plain": [
       "                                         brewery_name   beer_abv\n",
       "53                                       Schorschbräu  29.913846\n",
       "31  Hair of the Dog Brewing Company / Brewery and ...  29.000000\n",
       "17                                De Struise Brouwers  26.277778\n",
       "12                                            BrewDog  25.866667\n",
       "11                 Boston Beer Company (Samuel Adams)  21.188167\n",
       "21                             DuClaw Brewing Company  20.018113\n",
       "60                            Sonoran Brewing Company  19.441290\n",
       "13                            Bristol Brewing Company  18.400000\n",
       "61                          Southampton Publick House  18.000000\n",
       "40                                      Mikkeller ApS  17.595322"
      ]
     },
     "execution_count": 24,
     "metadata": {},
     "output_type": "execute_result"
    }
   ],
   "source": [
    "topTenMeans = groupedMean.drop(['unique_reviewers', 'total_reviews'], axis = 1).sort_values(by = ['beer_abv'], ascending=False).head(10)\n",
    "topTenMeans"
   ]
  },
  {
   "cell_type": "markdown",
   "metadata": {},
   "source": [
    "Get the top ten breweries who sell the strongest beers for visualization"
   ]
  },
  {
   "cell_type": "code",
   "execution_count": 25,
   "metadata": {},
   "outputs": [
    {
     "data": {
      "text/plain": [
       "Text(0.5, 1.0, 'Top Ten Breweries For Strong Beers (Mean)')"
      ]
     },
     "execution_count": 25,
     "metadata": {},
     "output_type": "execute_result"
    },
    {
     "data": {
      "image/png": "[encoded data removed]",
      "text/plain": [
       "<Figure size 432x288 with 1 Axes>"
      ]
     },
     "metadata": {
      "needs_background": "light"
     },
     "output_type": "display_data"
    }
   ],
   "source": [
    "plt.barh(topTenMeans.sort_values(by = \"beer_abv\")['brewery_name'], topTenMeans.sort_values(by = \"beer_abv\")['beer_abv'], color = 'lightgreen')\n",
    "plt.xlabel(\"Alcohol Percentage (%)\")\n",
    "plt.ylabel(\"Breweries\")\n",
    "plt.title(\"Top Ten Breweries For Strong Beers (Mean)\")"
   ]
  },
  {
   "cell_type": "markdown",
   "metadata": {},
   "source": [
    "# Here we can see that \"Schorschbräu\" has the highest  mean alcohol by beverge when we consider all beers with above 14.0 ABV"
   ]
  },
  {
   "cell_type": "code",
   "execution_count": 26,
   "metadata": {},
   "outputs": [],
   "source": [
    "groupedMedian = beerDataOverThreshold.groupby(by = 'brewery_name', as_index=False).agg({'beer_abv': 'median', 'review_profilename': pd.Series.nunique, 'review_overall': 'count'}).rename(columns={'review_profilename': 'unique_reviewers', 'review_overall': 'total_reviews'})"
   ]
  },
  {
   "cell_type": "markdown",
   "metadata": {},
   "source": [
    "Group the reviews by the breweries and get the median of the alcohol by volume of all beers sold at each brewery"
   ]
  },
  {
   "cell_type": "code",
   "execution_count": 27,
   "metadata": {},
   "outputs": [],
   "source": [
    "# If the data does not have at least 10 unique reviewers and 10 reviews, then remove it\n",
    "insufficientReviewsIndex = groupedMedian[[a or b for a, b in zip(groupedMedian['unique_reviewers'] < 10, groupedMedian['total_reviews'] < 10)]].index\n",
    "groupedMedian.drop(insufficientReviewsIndex, inplace=True)"
   ]
  },
  {
   "cell_type": "markdown",
   "metadata": {},
   "source": [
    "Remove any breweries that have less than 10 reviews or have less than 10 unique reviewers reviewing the brewery"
   ]
  },
  {
   "cell_type": "code",
   "execution_count": 28,
   "metadata": {},
   "outputs": [
    {
     "data": {
      "text/html": [
       "<div>\n",
       "<style scoped>\n",
       "    .dataframe tbody tr th:only-of-type {\n",
       "        vertical-align: middle;\n",
       "    }\n",
       "\n",
       "    .dataframe tbody tr th {\n",
       "        vertical-align: top;\n",
       "    }\n",
       "\n",
       "    .dataframe thead th {\n",
       "        text-align: right;\n",
       "    }\n",
       "</style>\n",
       "<table border=\"1\" class=\"dataframe\">\n",
       "  <thead>\n",
       "    <tr style=\"text-align: right;\">\n",
       "      <th></th>\n",
       "      <th>brewery_name</th>\n",
       "      <th>beer_abv</th>\n",
       "    </tr>\n",
       "  </thead>\n",
       "  <tbody>\n",
       "    <tr>\n",
       "      <th>53</th>\n",
       "      <td>Schorschbräu</td>\n",
       "      <td>30.86</td>\n",
       "    </tr>\n",
       "    <tr>\n",
       "      <th>31</th>\n",
       "      <td>Hair of the Dog Brewing Company / Brewery and ...</td>\n",
       "      <td>29.00</td>\n",
       "    </tr>\n",
       "    <tr>\n",
       "      <th>17</th>\n",
       "      <td>De Struise Brouwers</td>\n",
       "      <td>26.00</td>\n",
       "    </tr>\n",
       "    <tr>\n",
       "      <th>21</th>\n",
       "      <td>DuClaw Brewing Company</td>\n",
       "      <td>21.92</td>\n",
       "    </tr>\n",
       "    <tr>\n",
       "      <th>60</th>\n",
       "      <td>Sonoran Brewing Company</td>\n",
       "      <td>19.50</td>\n",
       "    </tr>\n",
       "    <tr>\n",
       "      <th>13</th>\n",
       "      <td>Bristol Brewing Company</td>\n",
       "      <td>18.40</td>\n",
       "    </tr>\n",
       "    <tr>\n",
       "      <th>12</th>\n",
       "      <td>BrewDog</td>\n",
       "      <td>18.20</td>\n",
       "    </tr>\n",
       "    <tr>\n",
       "      <th>19</th>\n",
       "      <td>Dogfish Head Brewery</td>\n",
       "      <td>18.00</td>\n",
       "    </tr>\n",
       "    <tr>\n",
       "      <th>61</th>\n",
       "      <td>Southampton Publick House</td>\n",
       "      <td>18.00</td>\n",
       "    </tr>\n",
       "    <tr>\n",
       "      <th>11</th>\n",
       "      <td>Boston Beer Company (Samuel Adams)</td>\n",
       "      <td>17.50</td>\n",
       "    </tr>\n",
       "  </tbody>\n",
       "</table>\n",
       "</div>"
      ],
      "text/plain": [
       "                                         brewery_name  beer_abv\n",
       "53                                       Schorschbräu     30.86\n",
       "31  Hair of the Dog Brewing Company / Brewery and ...     29.00\n",
       "17                                De Struise Brouwers     26.00\n",
       "21                             DuClaw Brewing Company     21.92\n",
       "60                            Sonoran Brewing Company     19.50\n",
       "13                            Bristol Brewing Company     18.40\n",
       "12                                            BrewDog     18.20\n",
       "19                               Dogfish Head Brewery     18.00\n",
       "61                          Southampton Publick House     18.00\n",
       "11                 Boston Beer Company (Samuel Adams)     17.50"
      ]
     },
     "execution_count": 28,
     "metadata": {},
     "output_type": "execute_result"
    }
   ],
   "source": [
    "topTenMedians = groupedMedian.drop(['unique_reviewers', 'total_reviews'], axis = 1).sort_values(by = ['beer_abv'], ascending=False).head(10)\n",
    "topTenMedians"
   ]
  },
  {
   "cell_type": "markdown",
   "metadata": {},
   "source": [
    "Get the top ten breweries who sell the strongest beers for visualization"
   ]
  },
  {
   "cell_type": "code",
   "execution_count": 29,
   "metadata": {},
   "outputs": [
    {
     "data": {
      "text/plain": [
       "Text(0.5, 1.0, 'Top Ten Breweries For Strong Beers (Median)')"
      ]
     },
     "execution_count": 29,
     "metadata": {},
     "output_type": "execute_result"
    },
    {
     "data": {
      "image/png": "[encoded data removed]",
      "text/plain": [
       "<Figure size 432x288 with 1 Axes>"
      ]
     },
     "metadata": {
      "needs_background": "light"
     },
     "output_type": "display_data"
    }
   ],
   "source": [
    "plt.barh(topTenMedians.sort_values(by = \"beer_abv\")['brewery_name'], topTenMedians.sort_values(by = \"beer_abv\")['beer_abv'], color='lightgreen')\n",
    "plt.xlabel(\"Alcohol Percentage (%)\")\n",
    "plt.ylabel(\"Breweries\")\n",
    "plt.title(\"Top Ten Breweries For Strong Beers (Median)\")"
   ]
  },
  {
   "cell_type": "markdown",
   "metadata": {},
   "source": [
    "# Here we can see that \"Schorschbräu\" has the highest  median alcohol by beverge when we consider all beers with above 14.0 ABV"
   ]
  },
  {
   "cell_type": "markdown",
   "metadata": {},
   "source": [
    "# Therefore I can conclude that the brewery of \"Schorschbräu\" has the strongest drinks"
   ]
  },
  {
   "cell_type": "markdown",
   "metadata": {},
   "source": [
    "Note: Since there were NAN values that we removed, one of these beers may have a higher alcohol by volume than the Schorschbräu"
   ]
  },
  {
   "cell_type": "code",
   "execution_count": null,
   "metadata": {},
   "outputs": [],
   "source": []
  },
  {
   "cell_type": "code",
   "execution_count": null,
   "metadata": {},
   "outputs": [],
   "source": []
  },
  {
   "cell_type": "markdown",
   "metadata": {},
   "source": [
    "# <center>Question 2</center>\n",
    "# If you had to pick 3 beers to recommend using only this data, which would you pick?"
   ]
  },
  {
   "cell_type": "markdown",
   "metadata": {},
   "source": [
    "The goal here is to create a recommendation system<br>\n",
    "Each user and beer become uniquely identified by 7 corresponding attributes between the user and beer. <br>\n",
    "The user attributes consist of how important they want a beer's overall value, aroma, appearance, taste, palate, popularity, and alcohol by volume.<br>\n",
    "The beer attributes consist of the average rating of the beer's overall value, aroma, appearance, taste, palate, popularity, and alcohol by volume.<br>\n",
    "\n",
    "\n",
    "\n",
    "We could think of this as points or vectors in a vector space. To recommend 3 drinks, we find a user in the space and get the closest distance to the 3 nearest drinks using the Euclidean Distance.\n",
    "\n"
   ]
  },
  {
   "cell_type": "markdown",
   "metadata": {},
   "source": [
    "Here is an example"
   ]
  },
  {
   "cell_type": "code",
   "execution_count": 30,
   "metadata": {},
   "outputs": [
    {
     "data": {
      "text/plain": [
       "Text(0.5, 0, 'Palate')"
      ]
     },
     "execution_count": 30,
     "metadata": {},
     "output_type": "execute_result"
    },
    {
     "data": {
      "image/png": "[encoded data removed]",
      "text/plain": [
       "<Figure size 864x720 with 1 Axes>"
      ]
     },
     "metadata": {
      "needs_background": "light"
     },
     "output_type": "display_data"
    }
   ],
   "source": [
    "np.random.seed(11)\n",
    "fig = plt.figure(figsize=(12,10))\n",
    "\n",
    "ax = plt.axes(projection='3d')\n",
    "\n",
    "# Data for three-dimensional scattered points\n",
    "zdata = np.random.randn(8)\n",
    "xdata = np.random.randn(8)\n",
    "ydata = np.random.randn(8)\n",
    "ax.scatter3D(xdata, ydata, zdata, c=\"red\", s = 200);\n",
    "\n",
    "\n",
    "ax.scatter3D(np.random.randn(), np.random.randn(), np.random.randn(), c = \"blue\", s = 200)\n",
    "plt.xlabel(\"Aroma\")\n",
    "plt.ylabel(\"Taste\")\n",
    "ax.set_zlabel(\"Palate\")"
   ]
  },
  {
   "cell_type": "markdown",
   "metadata": {},
   "source": [
    "For visualization, if the users are the blue points and the beers are the red points, then to recommend three beers for the single blue user, we would recommend the three red points on the very right."
   ]
  },
  {
   "cell_type": "code",
   "execution_count": 31,
   "metadata": {},
   "outputs": [],
   "source": [
    "beerDataWithCount = beerData.copy()\n",
    "beerDataBeerCount = beerDataWithCount.groupby(by = \"beer_beerid\", as_index=False).aggregate({\"review_aroma\":'count'}).rename(columns= {\"review_aroma\" : \"drink_popularity\"})\n",
    "\n",
    "beerDataWithCount = pd.merge(beerDataWithCount, beerDataBeerCount, how = \"left\", on = \"beer_beerid\")"
   ]
  },
  {
   "cell_type": "code",
   "execution_count": 40,
   "metadata": {},
   "outputs": [
    {
     "data": {
      "text/html": [
       "<div>\n",
       "<style scoped>\n",
       "    .dataframe tbody tr th:only-of-type {\n",
       "        vertical-align: middle;\n",
       "    }\n",
       "\n",
       "    .dataframe tbody tr th {\n",
       "        vertical-align: top;\n",
       "    }\n",
       "\n",
       "    .dataframe thead th {\n",
       "        text-align: right;\n",
       "    }\n",
       "</style>\n",
       "<table border=\"1\" class=\"dataframe\">\n",
       "  <thead>\n",
       "    <tr style=\"text-align: right;\">\n",
       "      <th></th>\n",
       "      <th>brewery_id</th>\n",
       "      <th>brewery_name</th>\n",
       "      <th>review_time</th>\n",
       "      <th>review_overall</th>\n",
       "      <th>review_aroma</th>\n",
       "      <th>review_appearance</th>\n",
       "      <th>review_profilename</th>\n",
       "      <th>beer_style</th>\n",
       "      <th>review_palate</th>\n",
       "      <th>review_taste</th>\n",
       "      <th>beer_name</th>\n",
       "      <th>beer_abv</th>\n",
       "      <th>beer_beerid</th>\n",
       "      <th>drink_popularity</th>\n",
       "      <th>beer_style_median_abv</th>\n",
       "    </tr>\n",
       "  </thead>\n",
       "  <tbody>\n",
       "    <tr>\n",
       "      <th>0</th>\n",
       "      <td>10325</td>\n",
       "      <td>Vecchio Birraio</td>\n",
       "      <td>1234817823</td>\n",
       "      <td>1.5</td>\n",
       "      <td>2.0</td>\n",
       "      <td>2.5</td>\n",
       "      <td>stcules</td>\n",
       "      <td>Hefeweizen</td>\n",
       "      <td>1.5</td>\n",
       "      <td>1.5</td>\n",
       "      <td>Sausa Weizen</td>\n",
       "      <td>5.0</td>\n",
       "      <td>47986</td>\n",
       "      <td>1</td>\n",
       "      <td>5.1</td>\n",
       "    </tr>\n",
       "    <tr>\n",
       "      <th>1</th>\n",
       "      <td>10325</td>\n",
       "      <td>Vecchio Birraio</td>\n",
       "      <td>1235915097</td>\n",
       "      <td>3.0</td>\n",
       "      <td>2.5</td>\n",
       "      <td>3.0</td>\n",
       "      <td>stcules</td>\n",
       "      <td>English Strong Ale</td>\n",
       "      <td>3.0</td>\n",
       "      <td>3.0</td>\n",
       "      <td>Red Moon</td>\n",
       "      <td>6.2</td>\n",
       "      <td>48213</td>\n",
       "      <td>1</td>\n",
       "      <td>7.0</td>\n",
       "    </tr>\n",
       "    <tr>\n",
       "      <th>2</th>\n",
       "      <td>10325</td>\n",
       "      <td>Vecchio Birraio</td>\n",
       "      <td>1235916604</td>\n",
       "      <td>3.0</td>\n",
       "      <td>2.5</td>\n",
       "      <td>3.0</td>\n",
       "      <td>stcules</td>\n",
       "      <td>Foreign / Export Stout</td>\n",
       "      <td>3.0</td>\n",
       "      <td>3.0</td>\n",
       "      <td>Black Horse Black Beer</td>\n",
       "      <td>6.5</td>\n",
       "      <td>48215</td>\n",
       "      <td>1</td>\n",
       "      <td>7.0</td>\n",
       "    </tr>\n",
       "    <tr>\n",
       "      <th>3</th>\n",
       "      <td>10325</td>\n",
       "      <td>Vecchio Birraio</td>\n",
       "      <td>1234725145</td>\n",
       "      <td>3.0</td>\n",
       "      <td>3.0</td>\n",
       "      <td>3.5</td>\n",
       "      <td>stcules</td>\n",
       "      <td>German Pilsener</td>\n",
       "      <td>2.5</td>\n",
       "      <td>3.0</td>\n",
       "      <td>Sausa Pils</td>\n",
       "      <td>5.0</td>\n",
       "      <td>47969</td>\n",
       "      <td>1</td>\n",
       "      <td>4.9</td>\n",
       "    </tr>\n",
       "    <tr>\n",
       "      <th>4</th>\n",
       "      <td>1075</td>\n",
       "      <td>Caldera Brewing Company</td>\n",
       "      <td>1293735206</td>\n",
       "      <td>4.0</td>\n",
       "      <td>4.5</td>\n",
       "      <td>4.0</td>\n",
       "      <td>johnmichaelsen</td>\n",
       "      <td>American Double / Imperial IPA</td>\n",
       "      <td>4.0</td>\n",
       "      <td>4.5</td>\n",
       "      <td>Cauldron DIPA</td>\n",
       "      <td>7.7</td>\n",
       "      <td>64883</td>\n",
       "      <td>1</td>\n",
       "      <td>8.8</td>\n",
       "    </tr>\n",
       "    <tr>\n",
       "      <th>...</th>\n",
       "      <td>...</td>\n",
       "      <td>...</td>\n",
       "      <td>...</td>\n",
       "      <td>...</td>\n",
       "      <td>...</td>\n",
       "      <td>...</td>\n",
       "      <td>...</td>\n",
       "      <td>...</td>\n",
       "      <td>...</td>\n",
       "      <td>...</td>\n",
       "      <td>...</td>\n",
       "      <td>...</td>\n",
       "      <td>...</td>\n",
       "      <td>...</td>\n",
       "      <td>...</td>\n",
       "    </tr>\n",
       "    <tr>\n",
       "      <th>1561720</th>\n",
       "      <td>14359</td>\n",
       "      <td>The Defiant Brewing Company</td>\n",
       "      <td>1162684892</td>\n",
       "      <td>5.0</td>\n",
       "      <td>4.0</td>\n",
       "      <td>3.5</td>\n",
       "      <td>maddogruss</td>\n",
       "      <td>Pumpkin Ale</td>\n",
       "      <td>4.0</td>\n",
       "      <td>4.0</td>\n",
       "      <td>The Horseman's Ale</td>\n",
       "      <td>5.2</td>\n",
       "      <td>33061</td>\n",
       "      <td>14</td>\n",
       "      <td>6.0</td>\n",
       "    </tr>\n",
       "    <tr>\n",
       "      <th>1561721</th>\n",
       "      <td>14359</td>\n",
       "      <td>The Defiant Brewing Company</td>\n",
       "      <td>1161048566</td>\n",
       "      <td>4.0</td>\n",
       "      <td>5.0</td>\n",
       "      <td>2.5</td>\n",
       "      <td>yelterdow</td>\n",
       "      <td>Pumpkin Ale</td>\n",
       "      <td>2.0</td>\n",
       "      <td>4.0</td>\n",
       "      <td>The Horseman's Ale</td>\n",
       "      <td>5.2</td>\n",
       "      <td>33061</td>\n",
       "      <td>14</td>\n",
       "      <td>6.0</td>\n",
       "    </tr>\n",
       "    <tr>\n",
       "      <th>1561722</th>\n",
       "      <td>14359</td>\n",
       "      <td>The Defiant Brewing Company</td>\n",
       "      <td>1160702513</td>\n",
       "      <td>4.5</td>\n",
       "      <td>3.5</td>\n",
       "      <td>3.0</td>\n",
       "      <td>TongoRad</td>\n",
       "      <td>Pumpkin Ale</td>\n",
       "      <td>3.5</td>\n",
       "      <td>4.0</td>\n",
       "      <td>The Horseman's Ale</td>\n",
       "      <td>5.2</td>\n",
       "      <td>33061</td>\n",
       "      <td>14</td>\n",
       "      <td>6.0</td>\n",
       "    </tr>\n",
       "    <tr>\n",
       "      <th>1561723</th>\n",
       "      <td>14359</td>\n",
       "      <td>The Defiant Brewing Company</td>\n",
       "      <td>1160023044</td>\n",
       "      <td>4.0</td>\n",
       "      <td>4.5</td>\n",
       "      <td>4.5</td>\n",
       "      <td>dherling</td>\n",
       "      <td>Pumpkin Ale</td>\n",
       "      <td>4.5</td>\n",
       "      <td>4.5</td>\n",
       "      <td>The Horseman's Ale</td>\n",
       "      <td>5.2</td>\n",
       "      <td>33061</td>\n",
       "      <td>14</td>\n",
       "      <td>6.0</td>\n",
       "    </tr>\n",
       "    <tr>\n",
       "      <th>1561724</th>\n",
       "      <td>14359</td>\n",
       "      <td>The Defiant Brewing Company</td>\n",
       "      <td>1160005319</td>\n",
       "      <td>5.0</td>\n",
       "      <td>4.5</td>\n",
       "      <td>4.5</td>\n",
       "      <td>cbl2</td>\n",
       "      <td>Pumpkin Ale</td>\n",
       "      <td>4.5</td>\n",
       "      <td>4.5</td>\n",
       "      <td>The Horseman's Ale</td>\n",
       "      <td>5.2</td>\n",
       "      <td>33061</td>\n",
       "      <td>14</td>\n",
       "      <td>6.0</td>\n",
       "    </tr>\n",
       "  </tbody>\n",
       "</table>\n",
       "<p>1561725 rows × 15 columns</p>\n",
       "</div>"
      ],
      "text/plain": [
       "         brewery_id                 brewery_name  review_time  review_overall  \\\n",
       "0             10325              Vecchio Birraio   1234817823             1.5   \n",
       "1             10325              Vecchio Birraio   1235915097             3.0   \n",
       "2             10325              Vecchio Birraio   1235916604             3.0   \n",
       "3             10325              Vecchio Birraio   1234725145             3.0   \n",
       "4              1075      Caldera Brewing Company   1293735206             4.0   \n",
       "...             ...                          ...          ...             ...   \n",
       "1561720       14359  The Defiant Brewing Company   1162684892             5.0   \n",
       "1561721       14359  The Defiant Brewing Company   1161048566             4.0   \n",
       "1561722       14359  The Defiant Brewing Company   1160702513             4.5   \n",
       "1561723       14359  The Defiant Brewing Company   1160023044             4.0   \n",
       "1561724       14359  The Defiant Brewing Company   1160005319             5.0   \n",
       "\n",
       "         review_aroma  review_appearance review_profilename  \\\n",
       "0                 2.0                2.5            stcules   \n",
       "1                 2.5                3.0            stcules   \n",
       "2                 2.5                3.0            stcules   \n",
       "3                 3.0                3.5            stcules   \n",
       "4                 4.5                4.0     johnmichaelsen   \n",
       "...               ...                ...                ...   \n",
       "1561720           4.0                3.5         maddogruss   \n",
       "1561721           5.0                2.5          yelterdow   \n",
       "1561722           3.5                3.0           TongoRad   \n",
       "1561723           4.5                4.5           dherling   \n",
       "1561724           4.5                4.5               cbl2   \n",
       "\n",
       "                             beer_style  review_palate  review_taste  \\\n",
       "0                            Hefeweizen            1.5           1.5   \n",
       "1                    English Strong Ale            3.0           3.0   \n",
       "2                Foreign / Export Stout            3.0           3.0   \n",
       "3                       German Pilsener            2.5           3.0   \n",
       "4        American Double / Imperial IPA            4.0           4.5   \n",
       "...                                 ...            ...           ...   \n",
       "1561720                     Pumpkin Ale            4.0           4.0   \n",
       "1561721                     Pumpkin Ale            2.0           4.0   \n",
       "1561722                     Pumpkin Ale            3.5           4.0   \n",
       "1561723                     Pumpkin Ale            4.5           4.5   \n",
       "1561724                     Pumpkin Ale            4.5           4.5   \n",
       "\n",
       "                      beer_name  beer_abv  beer_beerid  drink_popularity  \\\n",
       "0                  Sausa Weizen       5.0        47986                 1   \n",
       "1                      Red Moon       6.2        48213                 1   \n",
       "2        Black Horse Black Beer       6.5        48215                 1   \n",
       "3                    Sausa Pils       5.0        47969                 1   \n",
       "4                 Cauldron DIPA       7.7        64883                 1   \n",
       "...                         ...       ...          ...               ...   \n",
       "1561720      The Horseman's Ale       5.2        33061                14   \n",
       "1561721      The Horseman's Ale       5.2        33061                14   \n",
       "1561722      The Horseman's Ale       5.2        33061                14   \n",
       "1561723      The Horseman's Ale       5.2        33061                14   \n",
       "1561724      The Horseman's Ale       5.2        33061                14   \n",
       "\n",
       "         beer_style_median_abv  \n",
       "0                          5.1  \n",
       "1                          7.0  \n",
       "2                          7.0  \n",
       "3                          4.9  \n",
       "4                          8.8  \n",
       "...                        ...  \n",
       "1561720                    6.0  \n",
       "1561721                    6.0  \n",
       "1561722                    6.0  \n",
       "1561723                    6.0  \n",
       "1561724                    6.0  \n",
       "\n",
       "[1561725 rows x 15 columns]"
      ]
     },
     "execution_count": 40,
     "metadata": {},
     "output_type": "execute_result"
    }
   ],
   "source": [
    "beerDataWithCount"
   ]
  },
  {
   "cell_type": "markdown",
   "metadata": {},
   "source": [
    "First, I group each all the reviews by the beer that was reviewed<br>\n",
    "\n",
    "I then create a new feature called \"drink_popularity\" that will represent the amount of reviews this beer gets and therefore how popular this beer is to drink"
   ]
  },
  {
   "cell_type": "code",
   "execution_count": 32,
   "metadata": {},
   "outputs": [],
   "source": [
    "beer_style_abv = beerDataWithCount.groupby(by = [\"beer_style\", 'beer_name']).first().groupby(\"beer_style\").aggregate({\"beer_abv\" : \"median\"}).rename(columns = {\"beer_abv\": \"beer_style_median_abv\"})\n",
    "beerDataWithCount = pd.merge(beerDataWithCount, beer_style_abv, how = \"left\", on = \"beer_style\")\n",
    "beerDataWithCount['beer_abv'] = beerDataWithCount['beer_abv'].fillna(beerDataWithCount['beer_style_median_abv'])"
   ]
  },
  {
   "cell_type": "markdown",
   "metadata": {},
   "source": [
    "Next, I get the median alcohol by beverage for each beer style.<br>\n",
    "\n",
    "If there are beers that are missing the alochol by beverage, I replace the NaN values with the beer's beer style median alcohol by beverage."
   ]
  },
  {
   "cell_type": "code",
   "execution_count": 33,
   "metadata": {},
   "outputs": [],
   "source": [
    "reviewers = beerDataWithCount.groupby(by = 'review_profilename', as_index=False).agg({\"review_overall\": \"mean\", \"review_aroma\": \"mean\", \"review_appearance\": \"mean\", \"review_palate\" : \"mean\", \"review_taste\": \"mean\", \"beer_abv\": \"mean\", \"drink_popularity\" : \"mean\"})\n",
    "reviewers['drink_popularity'] = reviewers['drink_popularity'] / max(reviewers['drink_popularity']) * 5"
   ]
  },
  {
   "cell_type": "markdown",
   "metadata": {},
   "source": [
    "I group the reviews by each reviewer and get the average ratings of overall, aroma, appearance, palate, taste, beer_abv, and beer popularity from their respective reviews"
   ]
  },
  {
   "cell_type": "code",
   "execution_count": 34,
   "metadata": {},
   "outputs": [],
   "source": [
    "beers = beerDataWithCount.groupby(by = \"beer_name\", as_index=False).agg({\"review_overall\": \"mean\", \"review_aroma\": \"mean\", \"review_appearance\": \"mean\", \"review_palate\" : \"mean\", \"review_taste\": \"mean\", \"beer_abv\": \"mean\",\"drink_popularity\" : \"mean\"})\n",
    "beers['drink_popularity'] = beers['drink_popularity'] / max(beers['drink_popularity']) * 5"
   ]
  },
  {
   "cell_type": "markdown",
   "metadata": {},
   "source": [
    "I group the reviews by the beer reviewed and get the average ratings of overall, aroma, appearance, palate, taste and also the beer's alcohol by volume and the relative popularity calculated earlier"
   ]
  },
  {
   "cell_type": "code",
   "execution_count": 35,
   "metadata": {},
   "outputs": [
    {
     "data": {
      "text/html": [
       "<div>\n",
       "<style scoped>\n",
       "    .dataframe tbody tr th:only-of-type {\n",
       "        vertical-align: middle;\n",
       "    }\n",
       "\n",
       "    .dataframe tbody tr th {\n",
       "        vertical-align: top;\n",
       "    }\n",
       "\n",
       "    .dataframe thead th {\n",
       "        text-align: right;\n",
       "    }\n",
       "</style>\n",
       "<table border=\"1\" class=\"dataframe\">\n",
       "  <thead>\n",
       "    <tr style=\"text-align: right;\">\n",
       "      <th></th>\n",
       "      <th>review_profilename</th>\n",
       "      <th>review_overall</th>\n",
       "      <th>review_aroma</th>\n",
       "      <th>review_appearance</th>\n",
       "      <th>review_palate</th>\n",
       "      <th>review_taste</th>\n",
       "      <th>beer_abv</th>\n",
       "      <th>drink_popularity</th>\n",
       "    </tr>\n",
       "  </thead>\n",
       "  <tbody>\n",
       "    <tr>\n",
       "      <th>0</th>\n",
       "      <td>0110x011</td>\n",
       "      <td>4.241007</td>\n",
       "      <td>4.169065</td>\n",
       "      <td>4.057554</td>\n",
       "      <td>4.046763</td>\n",
       "      <td>4.215827</td>\n",
       "      <td>8.558129</td>\n",
       "      <td>0.981026</td>\n",
       "    </tr>\n",
       "    <tr>\n",
       "      <th>1</th>\n",
       "      <td>01Ryan10</td>\n",
       "      <td>5.000000</td>\n",
       "      <td>5.000000</td>\n",
       "      <td>4.500000</td>\n",
       "      <td>5.000000</td>\n",
       "      <td>5.000000</td>\n",
       "      <td>7.000000</td>\n",
       "      <td>0.573745</td>\n",
       "    </tr>\n",
       "    <tr>\n",
       "      <th>2</th>\n",
       "      <td>02maxima</td>\n",
       "      <td>4.000000</td>\n",
       "      <td>3.875000</td>\n",
       "      <td>4.000000</td>\n",
       "      <td>4.250000</td>\n",
       "      <td>4.375000</td>\n",
       "      <td>8.725000</td>\n",
       "      <td>1.701356</td>\n",
       "    </tr>\n",
       "    <tr>\n",
       "      <th>3</th>\n",
       "      <td>03SVTCobra</td>\n",
       "      <td>3.000000</td>\n",
       "      <td>2.833333</td>\n",
       "      <td>3.333333</td>\n",
       "      <td>3.333333</td>\n",
       "      <td>3.000000</td>\n",
       "      <td>4.743333</td>\n",
       "      <td>1.145931</td>\n",
       "    </tr>\n",
       "    <tr>\n",
       "      <th>4</th>\n",
       "      <td>04101Brewer</td>\n",
       "      <td>4.166667</td>\n",
       "      <td>3.333333</td>\n",
       "      <td>3.333333</td>\n",
       "      <td>3.666667</td>\n",
       "      <td>3.333333</td>\n",
       "      <td>5.466667</td>\n",
       "      <td>0.235423</td>\n",
       "    </tr>\n",
       "    <tr>\n",
       "      <th>...</th>\n",
       "      <td>...</td>\n",
       "      <td>...</td>\n",
       "      <td>...</td>\n",
       "      <td>...</td>\n",
       "      <td>...</td>\n",
       "      <td>...</td>\n",
       "      <td>...</td>\n",
       "      <td>...</td>\n",
       "    </tr>\n",
       "    <tr>\n",
       "      <th>33382</th>\n",
       "      <td>zymurgy4all</td>\n",
       "      <td>3.811828</td>\n",
       "      <td>3.768817</td>\n",
       "      <td>3.811828</td>\n",
       "      <td>3.677419</td>\n",
       "      <td>3.892473</td>\n",
       "      <td>5.641398</td>\n",
       "      <td>0.900232</td>\n",
       "    </tr>\n",
       "    <tr>\n",
       "      <th>33383</th>\n",
       "      <td>zymurgywhiz</td>\n",
       "      <td>4.250000</td>\n",
       "      <td>4.250000</td>\n",
       "      <td>4.250000</td>\n",
       "      <td>4.000000</td>\n",
       "      <td>4.250000</td>\n",
       "      <td>6.050000</td>\n",
       "      <td>2.927191</td>\n",
       "    </tr>\n",
       "    <tr>\n",
       "      <th>33384</th>\n",
       "      <td>zythus</td>\n",
       "      <td>4.187500</td>\n",
       "      <td>3.875000</td>\n",
       "      <td>3.937500</td>\n",
       "      <td>4.500000</td>\n",
       "      <td>4.062500</td>\n",
       "      <td>5.462500</td>\n",
       "      <td>0.968195</td>\n",
       "    </tr>\n",
       "    <tr>\n",
       "      <th>33385</th>\n",
       "      <td>zyzygy</td>\n",
       "      <td>4.200000</td>\n",
       "      <td>4.100000</td>\n",
       "      <td>4.000000</td>\n",
       "      <td>3.900000</td>\n",
       "      <td>4.400000</td>\n",
       "      <td>7.990000</td>\n",
       "      <td>1.052697</td>\n",
       "    </tr>\n",
       "    <tr>\n",
       "      <th>33386</th>\n",
       "      <td>zzajjber</td>\n",
       "      <td>5.000000</td>\n",
       "      <td>5.000000</td>\n",
       "      <td>5.000000</td>\n",
       "      <td>5.000000</td>\n",
       "      <td>5.000000</td>\n",
       "      <td>5.000000</td>\n",
       "      <td>0.695354</td>\n",
       "    </tr>\n",
       "  </tbody>\n",
       "</table>\n",
       "<p>33387 rows × 8 columns</p>\n",
       "</div>"
      ],
      "text/plain": [
       "      review_profilename  review_overall  review_aroma  review_appearance  \\\n",
       "0               0110x011        4.241007      4.169065           4.057554   \n",
       "1               01Ryan10        5.000000      5.000000           4.500000   \n",
       "2               02maxima        4.000000      3.875000           4.000000   \n",
       "3             03SVTCobra        3.000000      2.833333           3.333333   \n",
       "4            04101Brewer        4.166667      3.333333           3.333333   \n",
       "...                  ...             ...           ...                ...   \n",
       "33382        zymurgy4all        3.811828      3.768817           3.811828   \n",
       "33383        zymurgywhiz        4.250000      4.250000           4.250000   \n",
       "33384             zythus        4.187500      3.875000           3.937500   \n",
       "33385             zyzygy        4.200000      4.100000           4.000000   \n",
       "33386           zzajjber        5.000000      5.000000           5.000000   \n",
       "\n",
       "       review_palate  review_taste  beer_abv  drink_popularity  \n",
       "0           4.046763      4.215827  8.558129          0.981026  \n",
       "1           5.000000      5.000000  7.000000          0.573745  \n",
       "2           4.250000      4.375000  8.725000          1.701356  \n",
       "3           3.333333      3.000000  4.743333          1.145931  \n",
       "4           3.666667      3.333333  5.466667          0.235423  \n",
       "...              ...           ...       ...               ...  \n",
       "33382       3.677419      3.892473  5.641398          0.900232  \n",
       "33383       4.000000      4.250000  6.050000          2.927191  \n",
       "33384       4.500000      4.062500  5.462500          0.968195  \n",
       "33385       3.900000      4.400000  7.990000          1.052697  \n",
       "33386       5.000000      5.000000  5.000000          0.695354  \n",
       "\n",
       "[33387 rows x 8 columns]"
      ]
     },
     "execution_count": 35,
     "metadata": {},
     "output_type": "execute_result"
    }
   ],
   "source": [
    "reviewers"
   ]
  },
  {
   "cell_type": "code",
   "execution_count": 36,
   "metadata": {},
   "outputs": [
    {
     "data": {
      "text/html": [
       "<div>\n",
       "<style scoped>\n",
       "    .dataframe tbody tr th:only-of-type {\n",
       "        vertical-align: middle;\n",
       "    }\n",
       "\n",
       "    .dataframe tbody tr th {\n",
       "        vertical-align: top;\n",
       "    }\n",
       "\n",
       "    .dataframe thead th {\n",
       "        text-align: right;\n",
       "    }\n",
       "</style>\n",
       "<table border=\"1\" class=\"dataframe\">\n",
       "  <thead>\n",
       "    <tr style=\"text-align: right;\">\n",
       "      <th></th>\n",
       "      <th>beer_name</th>\n",
       "      <th>review_overall</th>\n",
       "      <th>review_aroma</th>\n",
       "      <th>review_appearance</th>\n",
       "      <th>review_palate</th>\n",
       "      <th>review_taste</th>\n",
       "      <th>beer_abv</th>\n",
       "      <th>drink_popularity</th>\n",
       "    </tr>\n",
       "  </thead>\n",
       "  <tbody>\n",
       "    <tr>\n",
       "      <th>0</th>\n",
       "      <td>! (Old Ale)</td>\n",
       "      <td>4.000000</td>\n",
       "      <td>4.5</td>\n",
       "      <td>4.00</td>\n",
       "      <td>4.000000</td>\n",
       "      <td>4.5</td>\n",
       "      <td>8.2</td>\n",
       "      <td>0.001559</td>\n",
       "    </tr>\n",
       "    <tr>\n",
       "      <th>1</th>\n",
       "      <td>\"100\"</td>\n",
       "      <td>4.000000</td>\n",
       "      <td>4.0</td>\n",
       "      <td>4.00</td>\n",
       "      <td>4.000000</td>\n",
       "      <td>4.4</td>\n",
       "      <td>10.0</td>\n",
       "      <td>0.007795</td>\n",
       "    </tr>\n",
       "    <tr>\n",
       "      <th>2</th>\n",
       "      <td>\"100\" Pale Ale</td>\n",
       "      <td>4.000000</td>\n",
       "      <td>4.0</td>\n",
       "      <td>3.50</td>\n",
       "      <td>4.000000</td>\n",
       "      <td>4.0</td>\n",
       "      <td>6.6</td>\n",
       "      <td>0.001559</td>\n",
       "    </tr>\n",
       "    <tr>\n",
       "      <th>3</th>\n",
       "      <td>\"12\"  Belgian Golden Strong Ale</td>\n",
       "      <td>4.000000</td>\n",
       "      <td>3.5</td>\n",
       "      <td>4.25</td>\n",
       "      <td>4.750000</td>\n",
       "      <td>4.5</td>\n",
       "      <td>9.0</td>\n",
       "      <td>0.003118</td>\n",
       "    </tr>\n",
       "    <tr>\n",
       "      <th>4</th>\n",
       "      <td>\"33\" Export</td>\n",
       "      <td>3.000000</td>\n",
       "      <td>3.0</td>\n",
       "      <td>3.00</td>\n",
       "      <td>3.166667</td>\n",
       "      <td>3.0</td>\n",
       "      <td>4.8</td>\n",
       "      <td>0.004677</td>\n",
       "    </tr>\n",
       "    <tr>\n",
       "      <th>...</th>\n",
       "      <td>...</td>\n",
       "      <td>...</td>\n",
       "      <td>...</td>\n",
       "      <td>...</td>\n",
       "      <td>...</td>\n",
       "      <td>...</td>\n",
       "      <td>...</td>\n",
       "      <td>...</td>\n",
       "    </tr>\n",
       "    <tr>\n",
       "      <th>56852</th>\n",
       "      <td>Žamberecký Kanec Imperial Stout</td>\n",
       "      <td>3.750000</td>\n",
       "      <td>4.5</td>\n",
       "      <td>4.50</td>\n",
       "      <td>4.250000</td>\n",
       "      <td>4.0</td>\n",
       "      <td>5.5</td>\n",
       "      <td>0.003118</td>\n",
       "    </tr>\n",
       "    <tr>\n",
       "      <th>56853</th>\n",
       "      <td>Ω-naught (Omeganaught)</td>\n",
       "      <td>4.166667</td>\n",
       "      <td>4.0</td>\n",
       "      <td>4.00</td>\n",
       "      <td>3.500000</td>\n",
       "      <td>3.5</td>\n",
       "      <td>5.0</td>\n",
       "      <td>0.004677</td>\n",
       "    </tr>\n",
       "    <tr>\n",
       "      <th>56854</th>\n",
       "      <td>“Chewy” Double IPA</td>\n",
       "      <td>2.500000</td>\n",
       "      <td>2.0</td>\n",
       "      <td>4.00</td>\n",
       "      <td>3.500000</td>\n",
       "      <td>2.5</td>\n",
       "      <td>6.9</td>\n",
       "      <td>0.001559</td>\n",
       "    </tr>\n",
       "    <tr>\n",
       "      <th>56855</th>\n",
       "      <td>横須賀ビアサケ (Yokosuka Biasake)</td>\n",
       "      <td>4.000000</td>\n",
       "      <td>3.5</td>\n",
       "      <td>3.00</td>\n",
       "      <td>3.500000</td>\n",
       "      <td>3.5</td>\n",
       "      <td>5.5</td>\n",
       "      <td>0.001559</td>\n",
       "    </tr>\n",
       "    <tr>\n",
       "      <th>56856</th>\n",
       "      <td>葉山ビール (Hayama Beer)</td>\n",
       "      <td>4.000000</td>\n",
       "      <td>3.0</td>\n",
       "      <td>3.00</td>\n",
       "      <td>3.500000</td>\n",
       "      <td>4.0</td>\n",
       "      <td>5.5</td>\n",
       "      <td>0.001559</td>\n",
       "    </tr>\n",
       "  </tbody>\n",
       "</table>\n",
       "<p>56857 rows × 8 columns</p>\n",
       "</div>"
      ],
      "text/plain": [
       "                              beer_name  review_overall  review_aroma  \\\n",
       "0                           ! (Old Ale)        4.000000           4.5   \n",
       "1                                 \"100\"        4.000000           4.0   \n",
       "2                        \"100\" Pale Ale        4.000000           4.0   \n",
       "3       \"12\"  Belgian Golden Strong Ale        4.000000           3.5   \n",
       "4                           \"33\" Export        3.000000           3.0   \n",
       "...                                 ...             ...           ...   \n",
       "56852  Žamberecký Kanec Imperial Stout        3.750000           4.5   \n",
       "56853            Ω-naught (Omeganaught)        4.166667           4.0   \n",
       "56854                “Chewy” Double IPA        2.500000           2.0   \n",
       "56855        横須賀ビアサケ (Yokosuka Biasake)        4.000000           3.5   \n",
       "56856               葉山ビール (Hayama Beer)        4.000000           3.0   \n",
       "\n",
       "       review_appearance  review_palate  review_taste  beer_abv  \\\n",
       "0                   4.00       4.000000           4.5       8.2   \n",
       "1                   4.00       4.000000           4.4      10.0   \n",
       "2                   3.50       4.000000           4.0       6.6   \n",
       "3                   4.25       4.750000           4.5       9.0   \n",
       "4                   3.00       3.166667           3.0       4.8   \n",
       "...                  ...            ...           ...       ...   \n",
       "56852               4.50       4.250000           4.0       5.5   \n",
       "56853               4.00       3.500000           3.5       5.0   \n",
       "56854               4.00       3.500000           2.5       6.9   \n",
       "56855               3.00       3.500000           3.5       5.5   \n",
       "56856               3.00       3.500000           4.0       5.5   \n",
       "\n",
       "       drink_popularity  \n",
       "0              0.001559  \n",
       "1              0.007795  \n",
       "2              0.001559  \n",
       "3              0.003118  \n",
       "4              0.004677  \n",
       "...                 ...  \n",
       "56852          0.003118  \n",
       "56853          0.004677  \n",
       "56854          0.001559  \n",
       "56855          0.001559  \n",
       "56856          0.001559  \n",
       "\n",
       "[56857 rows x 8 columns]"
      ]
     },
     "execution_count": 36,
     "metadata": {},
     "output_type": "execute_result"
    }
   ],
   "source": [
    "beers"
   ]
  },
  {
   "cell_type": "markdown",
   "metadata": {},
   "source": [
    "We can think of each beer and reviewer to be a 7-dimensional vector/point on a 7-dimensional vector space\n",
    "\n",
    "In order to make recommendations, we can choose a reviewer vector/point and find the 3 nearest beer vectors/points by calculating the euclidean distance between the reviewer and the nearby beers."
   ]
  },
  {
   "cell_type": "code",
   "execution_count": 37,
   "metadata": {},
   "outputs": [],
   "source": [
    "def lowestEuclideanDistanceBeers(reviewer_attributes, index):   \n",
    "#     print(list(np.asarray(reviewer_attributes)))\n",
    "    distances = np.linalg.norm(np.asarray(beers.drop('beer_name', axis = 1)) - list(np.asarray(reviewer_attributes)), axis = 1)\n",
    "    index_distances = [(index, distance) for index, distance in enumerate(distances)]\n",
    "    sorted_index_distances = sorted(index_distances, key = lambda x: x[1])\n",
    "\n",
    "    return beers.loc[sorted_index_distances[index][0], 'beer_name']\n"
   ]
  },
  {
   "cell_type": "markdown",
   "metadata": {},
   "source": [
    "We define a function to return the closest beers to a reviewer by the euclidean distance<br><br>\n",
    "The function subtracts a specific reviewer vector with all the vectors representing beers and calculates the length of the corresponding complement vectors and orders them to find a recommendation"
   ]
  },
  {
   "cell_type": "code",
   "execution_count": 577,
   "metadata": {},
   "outputs": [],
   "source": [
    "recommendations = reviewers.loc[:, ['review_profilename']]\n",
    "\n",
    "recommendations['First Rec'] = reviewers.apply(lambda x: lowestEuclideanDistanceBeers(x.drop('review_profilename'), 0), axis = 1)\n",
    "recommendations['Second Rec'] = reviewers.apply(lambda x: lowestEuclideanDistanceBeers(x.drop('review_profilename'), 1), axis = 1)\n",
    "recommendations['Third Rec'] = reviewers.apply(lambda x: lowestEuclideanDistanceBeers(x.drop('review_profilename'), 2), axis = 1)"
   ]
  },
  {
   "cell_type": "markdown",
   "metadata": {},
   "source": [
    "I create a new table that has each reviewer and their corresponding three recommendations"
   ]
  },
  {
   "cell_type": "code",
   "execution_count": 47,
   "metadata": {},
   "outputs": [
    {
     "data": {
      "text/html": [
       "<div>\n",
       "<style scoped>\n",
       "    .dataframe tbody tr th:only-of-type {\n",
       "        vertical-align: middle;\n",
       "    }\n",
       "\n",
       "    .dataframe tbody tr th {\n",
       "        vertical-align: top;\n",
       "    }\n",
       "\n",
       "    .dataframe thead th {\n",
       "        text-align: right;\n",
       "    }\n",
       "</style>\n",
       "<table border=\"1\" class=\"dataframe\">\n",
       "  <thead>\n",
       "    <tr style=\"text-align: right;\">\n",
       "      <th></th>\n",
       "      <th>review_profilename</th>\n",
       "      <th>First Rec</th>\n",
       "      <th>Second Rec</th>\n",
       "      <th>Third Rec</th>\n",
       "    </tr>\n",
       "  </thead>\n",
       "  <tbody>\n",
       "    <tr>\n",
       "      <th>0</th>\n",
       "      <td>0110x011</td>\n",
       "      <td>Fuller's Vintage Ale</td>\n",
       "      <td>Lukcy 13asartd Ale</td>\n",
       "      <td>Corsendonk Christmas Ale</td>\n",
       "    </tr>\n",
       "    <tr>\n",
       "      <th>1</th>\n",
       "      <td>01Ryan10</td>\n",
       "      <td>Geronimo IPA</td>\n",
       "      <td>Highland Oak Aged Cold Mountain Winter</td>\n",
       "      <td>Brooklyn Manchester Star</td>\n",
       "    </tr>\n",
       "    <tr>\n",
       "      <th>2</th>\n",
       "      <td>02maxima</td>\n",
       "      <td>G'Knight Imperial Red Ale</td>\n",
       "      <td>Don de Dieu</td>\n",
       "      <td>Hibernation Ale</td>\n",
       "    </tr>\n",
       "    <tr>\n",
       "      <th>3</th>\n",
       "      <td>03SVTCobra</td>\n",
       "      <td>Grolsch Premium Lager</td>\n",
       "      <td>Killian's Irish Red</td>\n",
       "      <td>Widmer Hefeweizen</td>\n",
       "    </tr>\n",
       "    <tr>\n",
       "      <th>4</th>\n",
       "      <td>04101Brewer</td>\n",
       "      <td>Bierhalle Marzen</td>\n",
       "      <td>Rochester Mills Lazy Daze Lager</td>\n",
       "      <td>Bull Falls Oktoberfest</td>\n",
       "    </tr>\n",
       "    <tr>\n",
       "      <th>...</th>\n",
       "      <td>...</td>\n",
       "      <td>...</td>\n",
       "      <td>...</td>\n",
       "      <td>...</td>\n",
       "    </tr>\n",
       "    <tr>\n",
       "      <th>33382</th>\n",
       "      <td>zymurgy4all</td>\n",
       "      <td>Duck-Rabbit Milk Stout</td>\n",
       "      <td>Old #38 Stout</td>\n",
       "      <td>Festbier</td>\n",
       "    </tr>\n",
       "    <tr>\n",
       "      <th>33383</th>\n",
       "      <td>zymurgywhiz</td>\n",
       "      <td>Great Lakes Edmund Fitzgerald Porter</td>\n",
       "      <td>Chocolate Stout</td>\n",
       "      <td>Shakespeare Oatmeal Stout</td>\n",
       "    </tr>\n",
       "    <tr>\n",
       "      <th>33384</th>\n",
       "      <td>zythus</td>\n",
       "      <td>St. Bernardus Witbier</td>\n",
       "      <td>Hacker-Pschorr Hefe Weisse Natürtrub</td>\n",
       "      <td>Bender</td>\n",
       "    </tr>\n",
       "    <tr>\n",
       "      <th>33385</th>\n",
       "      <td>zyzygy</td>\n",
       "      <td>La Chouffe</td>\n",
       "      <td>Oro De Calabaza</td>\n",
       "      <td>Great Lakes Nosferatu</td>\n",
       "    </tr>\n",
       "    <tr>\n",
       "      <th>33386</th>\n",
       "      <td>zzajjber</td>\n",
       "      <td>Great Lakes Truth Justice And The American Ale</td>\n",
       "      <td>Goodes Highland Scotch Ale</td>\n",
       "      <td>Koutská Dvanáctka</td>\n",
       "    </tr>\n",
       "  </tbody>\n",
       "</table>\n",
       "<p>33387 rows × 4 columns</p>\n",
       "</div>"
      ],
      "text/plain": [
       "      review_profilename                                       First Rec  \\\n",
       "0               0110x011                            Fuller's Vintage Ale   \n",
       "1               01Ryan10                                    Geronimo IPA   \n",
       "2               02maxima                       G'Knight Imperial Red Ale   \n",
       "3             03SVTCobra                           Grolsch Premium Lager   \n",
       "4            04101Brewer                                Bierhalle Marzen   \n",
       "...                  ...                                             ...   \n",
       "33382        zymurgy4all                          Duck-Rabbit Milk Stout   \n",
       "33383        zymurgywhiz            Great Lakes Edmund Fitzgerald Porter   \n",
       "33384             zythus                           St. Bernardus Witbier   \n",
       "33385             zyzygy                                      La Chouffe   \n",
       "33386           zzajjber  Great Lakes Truth Justice And The American Ale   \n",
       "\n",
       "                                   Second Rec                  Third Rec  \n",
       "0                          Lukcy 13asartd Ale   Corsendonk Christmas Ale  \n",
       "1      Highland Oak Aged Cold Mountain Winter   Brooklyn Manchester Star  \n",
       "2                                 Don de Dieu            Hibernation Ale  \n",
       "3                         Killian's Irish Red          Widmer Hefeweizen  \n",
       "4             Rochester Mills Lazy Daze Lager     Bull Falls Oktoberfest  \n",
       "...                                       ...                        ...  \n",
       "33382                           Old #38 Stout                   Festbier  \n",
       "33383                         Chocolate Stout  Shakespeare Oatmeal Stout  \n",
       "33384    Hacker-Pschorr Hefe Weisse Natürtrub                     Bender  \n",
       "33385                         Oro De Calabaza      Great Lakes Nosferatu  \n",
       "33386              Goodes Highland Scotch Ale          Koutská Dvanáctka  \n",
       "\n",
       "[33387 rows x 4 columns]"
      ]
     },
     "execution_count": 47,
     "metadata": {},
     "output_type": "execute_result"
    }
   ],
   "source": [
    "recommendations"
   ]
  },
  {
   "cell_type": "markdown",
   "metadata": {},
   "source": [
    "# Next I test the model by seeing how many recommendations are true recommendations"
   ]
  },
  {
   "cell_type": "code",
   "execution_count": 95,
   "metadata": {},
   "outputs": [],
   "source": [
    "reviewedDrinks = {}\n",
    "\n",
    "\n",
    "for x in tqdm(range(beerData.shape[0])):\n",
    "    review = beerData.loc[x, :]\n",
    "    reviewName = review['review_profilename']\n",
    "    reviewedBeer = review['beer_name']\n",
    "    if reviewName not in reviewedDrinks.keys():\n",
    "        reviewedDrinks[reviewName] = []\n",
    "    if reviewedBeer not in reviewedDrinks[reviewName]:\n",
    "        reviewedDrinks[reviewName].append(reviewedBeer)\n"
   ]
  },
  {
   "cell_type": "markdown",
   "metadata": {},
   "source": [
    "Here, I find each beer that each reviewer has recommended"
   ]
  },
  {
   "cell_type": "code",
   "execution_count": 108,
   "metadata": {},
   "outputs": [],
   "source": [
    "def goodRecommendation(reviewerRecommendations):\n",
    "    print(reviewerRecommendations)\n",
    "    name = reviewerRecommendations['review_profilename']\n",
    "    firstRecommendation = reviewerRecommendations['First Rec']\n",
    "    secondRecommendation = reviewerRecommendations['Second Rec']\n",
    "    thirdRecommendation = reviewerRecommendations['Third Rec']\n",
    "    alreadyTried = 0\n",
    "    if firstRec in reviewedDrinks[name]:\n",
    "        alreadyTried += 1\n",
    "    if secondRec in reviewedDrinks[name]:\n",
    "        alreadyTried += 1\n",
    "    if thirdRec in reviewedDrinks[name]:\n",
    "        alreadyTried += 1\n",
    "    return alreadyTried"
   ]
  },
  {
   "cell_type": "markdown",
   "metadata": {},
   "source": [
    "This is a function that tests whether a reviewer has already tried out a beer that they have been recommended and returns the number of beers they have already reviewed"
   ]
  },
  {
   "cell_type": "code",
   "execution_count": 159,
   "metadata": {},
   "outputs": [],
   "source": [
    "recommendations['already_tried'] = recommendations.apply(lambda x: goodRecommendation(x), axis = 1)\n",
    "\n",
    "reviewersCount = beerData.groupby(by = \"review_profilename\", as_index = False).agg({\"beer_style\" : \"count\"}).rename(columns = {\"beer_style\": \"num_reviews\"})"
   ]
  },
  {
   "cell_type": "code",
   "execution_count": 123,
   "metadata": {},
   "outputs": [],
   "source": [
    "namesAboveNineReviews = reviewersCount[reviewersCount['num_reviews'] >= 10]['review_profilename']"
   ]
  },
  {
   "cell_type": "markdown",
   "metadata": {},
   "source": [
    "I filter the earlier recommendations list to only include reviewers that have already reviewed 10 beers are more"
   ]
  },
  {
   "cell_type": "code",
   "execution_count": 158,
   "metadata": {},
   "outputs": [
    {
     "data": {
      "text/plain": [
       "0.20388530867656673"
      ]
     },
     "execution_count": 158,
     "metadata": {},
     "output_type": "execute_result"
    }
   ],
   "source": [
    "sum(list(recommendations[recommendations['review_profilename'].isin(list(namesAboveNineReviews))]['already_tried'])) / (len(namesAboveNineReviews) * 3)"
   ]
  },
  {
   "cell_type": "markdown",
   "metadata": {},
   "source": [
    "I then divide the number of recommendations that were already reviewed/tried by the total recommendations"
   ]
  },
  {
   "cell_type": "markdown",
   "metadata": {},
   "source": [
    "So from this calculation, ~20% of the recommendations were beers that the respective reviewers have already reviewed/tried and the remaining 80% of the recommendations are new beers that the respective reviewers have not het reviewedtried"
   ]
  },
  {
   "cell_type": "code",
   "execution_count": 41,
   "metadata": {},
   "outputs": [
    {
     "name": "stdout",
     "output_type": "stream",
     "text": [
      "Please answer your preferences with input numbers in the range 1-5\n",
      "Overall: 5\n",
      "Aroma: 1\n",
      "Appearance: 1\n",
      "Palate: 5\n",
      "Taste: 4\n",
      "Alcohol by Volume: 15\n",
      "Drink Popularity Preference: 5\n",
      "\n",
      "\n",
      "\n",
      "Overall:  5.0\n",
      "Aroma:  1.0\n",
      "Appearance:  1.0\n",
      "Palate:  5.0\n",
      "Taste:  4.0\n",
      "Alcohol by Volums:  15.0\n",
      "Drink Popualrity Preference:  5.0\n",
      "\n",
      "The first recommendation is:  Bourbon County Brand Stout\n",
      "The second recommendation is:  Olde School Barleywine\n",
      "The third recommendation is:  Samichlaus Bier\n"
     ]
    }
   ],
   "source": [
    "print(\"Please answer your preferences with input numbers in the range 1-5\")\n",
    "overall = float(input(\"Overall: \"))\n",
    "aroma = float(input(\"Aroma: \"))\n",
    "appearance = float(input(\"Appearance: \"))\n",
    "palate = float(input(\"Palate: \"))\n",
    "taste = float(input(\"Taste: \"))\n",
    "beer_abv = float(input(\"Alcohol by Volume: \"))\n",
    "drink_popularity = float(input(\"Drink Popularity Preference: \"))\n",
    "\n",
    "user = [overall, aroma, appearance, palate, taste, beer_abv, drink_popularity]\n",
    "\n",
    "firstRec = lowestEuclideanDistanceBeers(user, 0)\n",
    "secondRec = lowestEuclideanDistanceBeers(user, 1)\n",
    "thirdRec = lowestEuclideanDistanceBeers(user, 2)\n",
    "\n",
    "print(\"\\n\\n\")\n",
    "print(\"Overall: \", overall)\n",
    "print(\"Aroma: \", aroma)\n",
    "print(\"Appearance: \", appearance)\n",
    "print(\"Palate: \", palate)\n",
    "print(\"Taste: \", taste)\n",
    "print(\"Alcohol by Volums: \", beer_abv)\n",
    "print(\"Drink Popualrity Preference: \", drink_popularity)\n",
    "print()\n",
    "print(\"The first recommendation is: \", firstRec)\n",
    "print(\"The second recommendation is: \", secondRec)\n",
    "print(\"The third recommendation is: \", thirdRec)"
   ]
  },
  {
   "cell_type": "markdown",
   "metadata": {},
   "source": [
    "# Therefore we created a recommmendation system that recommends beers to users based on 7 shared attributes"
   ]
  },
  {
   "cell_type": "code",
   "execution_count": null,
   "metadata": {},
   "outputs": [],
   "source": []
  },
  {
   "cell_type": "code",
   "execution_count": null,
   "metadata": {},
   "outputs": [],
   "source": []
  },
  {
   "cell_type": "code",
   "execution_count": null,
   "metadata": {},
   "outputs": [],
   "source": []
  },
  {
   "cell_type": "markdown",
   "metadata": {},
   "source": [
    "# <center>Question 3</center>\n",
    "# Which of the factors (aroma, taste, appearance, palette) are most important in determining the overall quality of a beer?"
   ]
  },
  {
   "cell_type": "code",
   "execution_count": 41,
   "metadata": {},
   "outputs": [],
   "source": [
    "beerDataQualityFactors = beerData[['review_overall', 'review_aroma', 'review_appearance', 'review_palate', 'review_taste']]"
   ]
  },
  {
   "cell_type": "markdown",
   "metadata": {},
   "source": [
    "Get the necessary variables only (Overall, Aroma, Apearance, Palate, Taste Reviews)"
   ]
  },
  {
   "cell_type": "code",
   "execution_count": 42,
   "metadata": {},
   "outputs": [],
   "source": [
    "overall = beerDataQualityFactors['review_overall']\n",
    "aroma = beerDataQualityFactors['review_aroma']\n",
    "appearance = beerDataQualityFactors['review_appearance']\n",
    "palate = beerDataQualityFactors['review_palate']\n",
    "taste = beerDataQualityFactors['review_taste']"
   ]
  },
  {
   "cell_type": "markdown",
   "metadata": {},
   "source": [
    "Get the individual columns for convenience "
   ]
  },
  {
   "cell_type": "code",
   "execution_count": 43,
   "metadata": {},
   "outputs": [],
   "source": [
    "correlations = beerDataQualityFactors.corr()"
   ]
  },
  {
   "cell_type": "markdown",
   "metadata": {},
   "source": [
    "Get the correlations of each review with each other column"
   ]
  },
  {
   "cell_type": "code",
   "execution_count": 45,
   "metadata": {},
   "outputs": [],
   "source": [
    "correlations = correlations.sort_values('review_overall', ascending=False)"
   ]
  },
  {
   "cell_type": "markdown",
   "metadata": {},
   "source": [
    "Sort the correlations by the \"overall review\" column since we want to see which other review can best predict the overall review"
   ]
  },
  {
   "cell_type": "code",
   "execution_count": 46,
   "metadata": {},
   "outputs": [
    {
     "data": {
      "text/plain": [
       "<AxesSubplot:>"
      ]
     },
     "execution_count": 46,
     "metadata": {},
     "output_type": "execute_result"
    },
    {
     "data": {
      "image/png": "[encoded data removed]",
      "text/plain": [
       "<Figure size 432x288 with 2 Axes>"
      ]
     },
     "metadata": {
      "needs_background": "light"
     },
     "output_type": "display_data"
    }
   ],
   "source": [
    "sns.heatmap(correlations, cmap = \"rocket_r\")"
   ]
  },
  {
   "cell_type": "markdown",
   "metadata": {},
   "source": [
    "# From the heatmap, we can visually see the best predictor factor is taste\n",
    "## <br>This is intuitive since taste has arguably the most powerful connection to memory"
   ]
  },
  {
   "cell_type": "markdown",
   "metadata": {},
   "source": [
    "# Another approach is using Linear Algebra\n",
    "\n",
    "In essence, each column could be interpreted as a high dimensional vector.<br>\n",
    "I find the cosine angle and euclidean distance between these columns/vectors<br>\n",
    "The higher the cosine angle, the greater the similarity between two columns/vectors<br>\n",
    "When the cosine angle is 1, then the two columns are just multiples of one another<br>\n",
    "The lower the euclidean distance, the lower the difference between two columns as points in a vector space<br>\n",
    "When the euclidean distance is zero, the two columns are exactly the same<br>"
   ]
  },
  {
   "cell_type": "code",
   "execution_count": 48,
   "metadata": {},
   "outputs": [
    {
     "name": "stdout",
     "output_type": "stream",
     "text": [
      "Cosine Similarity of Overall Review and Taste Review\n",
      "0.9926007642417072\n",
      "Euclidean Distance of Overall Review and Taste Review\n",
      "593.9934763951537\n",
      "\n",
      "Cosine Similarity of Overall Review and Palate Review\n",
      "0.9900618627013297\n",
      "Euclidean Distance of Overall Review and Palate Review\n",
      "689.6082221087564\n",
      "\n",
      "Cosine Similarity of Overall Review and Aroma Review\n",
      "0.9869163090155839\n",
      "Euclidean Distance of Overall Review and Aroma Review\n",
      "789.6393163970497\n",
      "\n",
      "Cosine Similarity of Overall Review and Appearance Review\n",
      "0.9849754260717498\n",
      "Euclidean Distance of Overall Review and Appearance Review\n",
      "848.7527614093518\n",
      "\n"
     ]
    }
   ],
   "source": [
    "taste_cosine_angle =  np.asarray(overall).dot(np.asarray(taste))/ (np.linalg.norm(overall) * np.linalg.norm(taste))\n",
    "taste_euclidean_distance = np.linalg.norm(overall-taste)\n",
    "print(\"Cosine Similarity of Overall Review and Taste Review\")\n",
    "print(taste_cosine_angle)\n",
    "print(\"Euclidean Distance of Overall Review and Taste Review\")\n",
    "print(taste_euclidean_distance)\n",
    "print()\n",
    "\n",
    "palate_cosine_angle =  np.asarray(overall).dot(np.asarray(palate))/ (np.linalg.norm(overall) * np.linalg.norm(palate))\n",
    "palate_euclidean_distance = np.linalg.norm(overall-palate)\n",
    "print(\"Cosine Similarity of Overall Review and Palate Review\")\n",
    "print(palate_cosine_angle)\n",
    "print(\"Euclidean Distance of Overall Review and Palate Review\")\n",
    "print(palate_euclidean_distance)\n",
    "print()\n",
    "\n",
    "aroma_cosine_angle =  np.asarray(overall).dot(np.asarray(aroma))/ (np.linalg.norm(overall) * np.linalg.norm(aroma))\n",
    "aroma_euclidean_distance = np.linalg.norm(overall-aroma)\n",
    "print(\"Cosine Similarity of Overall Review and Aroma Review\")\n",
    "print(aroma_cosine_angle)\n",
    "print(\"Euclidean Distance of Overall Review and Aroma Review\")\n",
    "print(aroma_euclidean_distance)\n",
    "print()\n",
    "\n",
    "appearance_cosine_angle =  np.asarray(overall).dot(np.asarray(appearance))/ (np.linalg.norm(overall) * np.linalg.norm(appearance))\n",
    "appearance_euclidean_distance = np.linalg.norm(overall-appearance)\n",
    "print(\"Cosine Similarity of Overall Review and Appearance Review\")\n",
    "print(appearance_cosine_angle)\n",
    "print(\"Euclidean Distance of Overall Review and Appearance Review\")\n",
    "print(appearance_euclidean_distance)\n",
    "print()\n"
   ]
  },
  {
   "cell_type": "code",
   "execution_count": 49,
   "metadata": {},
   "outputs": [
    {
     "data": {
      "text/plain": [
       "Text(0.5, 1.0, 'Factors Cosine Similarity with Overall Review')"
      ]
     },
     "execution_count": 49,
     "metadata": {},
     "output_type": "execute_result"
    },
    {
     "data": {
      "image/png": "[encoded data removed]",
      "text/plain": [
       "<Figure size 432x288 with 1 Axes>"
      ]
     },
     "metadata": {
      "needs_background": "light"
     },
     "output_type": "display_data"
    }
   ],
   "source": [
    "plt.barh(['Appearance', 'Aroma', 'Palate', 'Taste'], [appearance_cosine_angle, aroma_cosine_angle, palate_cosine_angle, taste_cosine_angle], color = \"red\")\n",
    "plt.xlim(0.98, 0.993)\n",
    "plt.xlabel('Cosine Similarity')\n",
    "plt.ylabel('Factors')\n",
    "plt.title(\"Factors Cosine Similarity with Overall Review\")"
   ]
  },
  {
   "cell_type": "code",
   "execution_count": 50,
   "metadata": {},
   "outputs": [
    {
     "data": {
      "text/plain": [
       "Text(0.5, 1.0, 'Factors Euclidean Distance with Overall Review')"
      ]
     },
     "execution_count": 50,
     "metadata": {},
     "output_type": "execute_result"
    },
    {
     "data": {
      "image/png": "[encoded data removed]",
      "text/plain": [
       "<Figure size 432x288 with 1 Axes>"
      ]
     },
     "metadata": {
      "needs_background": "light"
     },
     "output_type": "display_data"
    }
   ],
   "source": [
    "plt.barh(['Appearance', 'Aroma', 'Palate', 'Taste'], [appearance_euclidean_distance, aroma_euclidean_distance, palate_euclidean_distance, taste_euclidean_distance], color = \"red\")\n",
    "plt.xlim(550, 900)\n",
    "plt.xlabel('Euclidean Distance')\n",
    "plt.ylabel('Factors')\n",
    "plt.title(\"Factors Euclidean Distance with Overall Review\")"
   ]
  },
  {
   "cell_type": "markdown",
   "metadata": {},
   "source": [
    "# From these graphs and statistics, we can see that taste has both the highest cosine angle and the smallest euclidean distance "
   ]
  },
  {
   "cell_type": "markdown",
   "metadata": {},
   "source": [
    "# <center>Optional"
   ]
  },
  {
   "cell_type": "markdown",
   "metadata": {},
   "source": [
    "# Next, we can also check the lines of best fit. The closer the slope of the line is to 1, the better the one-to-one conversion is\n",
    "\n",
    "The slope will be at most 1 since each axis has the same scale\n"
   ]
  },
  {
   "cell_type": "code",
   "execution_count": null,
   "metadata": {},
   "outputs": [],
   "source": []
  },
  {
   "cell_type": "code",
   "execution_count": 127,
   "metadata": {},
   "outputs": [],
   "source": [
    "overall_taste_count = beerDataQualityFactors.groupby(['review_overall', 'review_taste']).size().reset_index(name='count')\n",
    "overall_aroma_count = beerDataQualityFactors.groupby(['review_overall', 'review_aroma']).size().reset_index(name='count')\n",
    "overall_appearance_count = beerDataQualityFactors.groupby(['review_overall', 'review_appearance']).size().reset_index(name='count')\n",
    "overall_palate_count = beerDataQualityFactors.groupby(['review_overall', 'review_palate']).size().reset_index(name='count')\n",
    "\n",
    "m_taste, b_taste = np.polyfit(beerDataQualityFactors['review_overall'], beerDataQualityFactors['review_taste'], deg = 1)\n",
    "m_aroma, b_aroma = np.polyfit(beerDataQualityFactors['review_overall'], beerDataQualityFactors['review_aroma'], deg = 1)\n",
    "m_palate, b_palate = np.polyfit(beerDataQualityFactors['review_overall'], beerDataQualityFactors['review_palate'], deg = 1)\n",
    "m_appearance, b_appearance = np.polyfit(beerDataQualityFactors['review_overall'], beerDataQualityFactors['review_appearance'], deg = 1)\n"
   ]
  },
  {
   "cell_type": "code",
   "execution_count": 169,
   "metadata": {},
   "outputs": [
    {
     "data": {
      "text/plain": [
       "Text(0.5, 1.0, 'Overall vs. Taste')"
      ]
     },
     "execution_count": 169,
     "metadata": {},
     "output_type": "execute_result"
    },
    {
     "data": {
      "image/png": "[encoded data removed]",
      "text/plain": [
       "<Figure size 432x288 with 1 Axes>"
      ]
     },
     "metadata": {
      "needs_background": "light"
     },
     "output_type": "display_data"
    }
   ],
   "source": [
    "\n",
    "plt.scatter(overall_taste_count['review_overall'], overall_taste_count['review_taste'], s = 500 * overall_taste_count['count']/max(overall_taste_count['count']))\n",
    "plt.plot(np.arange(1, 5.5, 0.5), np.arange(1, 5.5, 0.5) * m_taste + b_taste)\n",
    "plt.xlabel(\"Overall\")\n",
    "plt.ylabel(\"Taste\")\n",
    "plt.title(\"Overall vs. Taste\")\n"
   ]
  },
  {
   "cell_type": "code",
   "execution_count": 182,
   "metadata": {},
   "outputs": [
    {
     "data": {
      "text/plain": [
       "Text(0.5, 1.0, 'Overall vs. Aroma')"
      ]
     },
     "execution_count": 182,
     "metadata": {},
     "output_type": "execute_result"
    },
    {
     "data": {
      "image/png": "[encoded data removed]",
      "text/plain": [
       "<Figure size 432x288 with 1 Axes>"
      ]
     },
     "metadata": {
      "needs_background": "light"
     },
     "output_type": "display_data"
    }
   ],
   "source": [
    "fig, ax = plt.subplots()\n",
    "scatter = plt.scatter(overall_aroma_count['review_overall'], overall_aroma_count['review_aroma'], s = 500 * overall_aroma_count['count']/max(overall_aroma_count['count']))\n",
    "# legend1 = ax.legend(*scatter.legend_elements(num=5), loc=\"upper left\", title = \"ranking\")\n",
    "plt.plot(np.arange(1, 5.5, 0.5), np.arange(1, 5.5, 0.5) * m_aroma + b_aroma)\n",
    "plt.xlabel(\"Overall\")\n",
    "plt.ylabel(\"Aroma\")\n",
    "plt.title(\"Overall vs. Aroma\")"
   ]
  },
  {
   "cell_type": "code",
   "execution_count": 155,
   "metadata": {},
   "outputs": [
    {
     "data": {
      "text/plain": [
       "Text(0.5, 1.0, 'Overall vs. Palate')"
      ]
     },
     "execution_count": 155,
     "metadata": {},
     "output_type": "execute_result"
    },
    {
     "data": {
      "image/png": "[encoded data removed]",
      "text/plain": [
       "<Figure size 432x288 with 1 Axes>"
      ]
     },
     "metadata": {
      "needs_background": "light"
     },
     "output_type": "display_data"
    }
   ],
   "source": [
    "plt.scatter(overall_palate_count['review_overall'], overall_palate_count['review_palate'], s = 500 * overall_palate_count['count']/max(overall_palate_count['count']))\n",
    "plt.plot(np.arange(1, 5.5, 0.5), np.arange(1, 5.5, 0.5) * m_palate + b_palate)\n",
    "plt.xlabel(\"Overall\")\n",
    "plt.ylabel(\"Palate\")\n",
    "plt.title(\"Overall vs. Palate\")"
   ]
  },
  {
   "cell_type": "code",
   "execution_count": 157,
   "metadata": {},
   "outputs": [
    {
     "data": {
      "text/plain": [
       "Text(0.5, 1.0, 'Overall vs. Appearance')"
      ]
     },
     "execution_count": 157,
     "metadata": {},
     "output_type": "execute_result"
    },
    {
     "data": {
      "image/png": "[encoded data removed]",
      "text/plain": [
       "<Figure size 432x288 with 1 Axes>"
      ]
     },
     "metadata": {
      "needs_background": "light"
     },
     "output_type": "display_data"
    }
   ],
   "source": [
    "plt.scatter(overall_appearance_count['review_overall'], overall_appearance_count['review_appearance'], s = 500 * overall_appearance_count['count']/max(overall_appearance_count['count']))\n",
    "plt.plot(np.arange(1, 5.5, 0.5), np.arange(1, 5.5, 0.5) * m_appearance + b_appearance)\n",
    "plt.xlabel(\"Overall\")\n",
    "plt.ylabel(\"Appearance\")\n",
    "plt.title(\"Overall vs. Appearance\")"
   ]
  },
  {
   "cell_type": "markdown",
   "metadata": {},
   "source": [
    "# As you can see, the slopes of the lines of best fit are becoming more and more gentle/flat. The next visual will make this more clear"
   ]
  },
  {
   "cell_type": "code",
   "execution_count": 149,
   "metadata": {},
   "outputs": [
    {
     "data": {
      "text/plain": [
       "<matplotlib.legend.Legend at 0x7facf06d54c0>"
      ]
     },
     "execution_count": 149,
     "metadata": {},
     "output_type": "execute_result"
    },
    {
     "data": {
      "image/png": "[encoded data removed]",
      "text/plain": [
       "<Figure size 432x288 with 1 Axes>"
      ]
     },
     "metadata": {
      "needs_background": "light"
     },
     "output_type": "display_data"
    }
   ],
   "source": [
    "plt.plot(np.arange(1, 5, 0.5), np.arange(1, 5, 0.5) * m_taste + b_taste)\n",
    "\n",
    "plt.plot(np.arange(1, 5, 0.5), np.arange(1, 5, 0.5) * m_aroma + b_aroma)\n",
    "\n",
    "plt.plot(np.arange(1, 5, 0.5), np.arange(1, 5, 0.5) * m_palate + b_palate)\n",
    "\n",
    "plt.plot(np.arange(1, 5, 0.5), np.arange(1, 5, 0.5) * m_appearance + b_appearance)\n",
    "\n",
    "plt.xlim(0.80, 5)\n",
    "plt.ylim(0.80, 5)\n",
    "plt.xlabel(\"Overall Rating\")\n",
    "plt.ylabel(\"Overall Factor Rating\")\n",
    "plt.title(\"Lines of Best Fit Of Factors and Overall\")\n",
    "plt.legend(['Taste (slope = %.2f )' % m_taste, 'Aroma (slope = %.2f )' % m_aroma, 'Palate (slope = %.2f )' % m_palate, 'Appearance (slope = %.2f )' % m_appearance])"
   ]
  },
  {
   "cell_type": "markdown",
   "metadata": {},
   "source": [
    "From these graphs and statistics, you can see that the slope of the taste vs the overall rating has the largest slope value and is therefore has the best one-to-one conversion to the overall rating"
   ]
  },
  {
   "cell_type": "markdown",
   "metadata": {},
   "source": [
    "# We can conclude that \"taste\" is most important in determining the overall quality of a beer"
   ]
  },
  {
   "cell_type": "code",
   "execution_count": null,
   "metadata": {},
   "outputs": [],
   "source": []
  },
  {
   "cell_type": "code",
   "execution_count": null,
   "metadata": {},
   "outputs": [],
   "source": []
  },
  {
   "cell_type": "code",
   "execution_count": null,
   "metadata": {},
   "outputs": [],
   "source": []
  },
  {
   "cell_type": "code",
   "execution_count": null,
   "metadata": {},
   "outputs": [],
   "source": []
  },
  {
   "cell_type": "markdown",
   "metadata": {},
   "source": [
    "# <h1><center>QUESTION 4</center></h1>\n",
    "# Lastly, if I typically enjoy a beer due to its aroma and appearance, which beer style should I try?\n",
    "<br>"
   ]
  },
  {
   "cell_type": "code",
   "execution_count": null,
   "metadata": {},
   "outputs": [],
   "source": [
    "beerAromaAppearance = beerData.loc[:, ['beer_style', 'review_aroma', 'review_appearance']]"
   ]
  },
  {
   "cell_type": "markdown",
   "metadata": {},
   "source": [
    "Obtain the necessary variables (Beer Style, Review Aroma, and Review Appearance) by using grouping operations"
   ]
  },
  {
   "cell_type": "code",
   "execution_count": null,
   "metadata": {},
   "outputs": [],
   "source": [
    "beerAromaAppearanceCount  = beerData.groupby(by = 'beer_style', as_index=False)['brewery_name'].count()\n",
    "beerAromaAppearanceCount.rename(columns={'brewery_name': 'count'}, inplace=True) "
   ]
  },
  {
   "cell_type": "markdown",
   "metadata": {},
   "source": [
    "Get the amount of reviews for each beer style "
   ]
  },
  {
   "cell_type": "code",
   "execution_count": 164,
   "metadata": {},
   "outputs": [],
   "source": [
    "groupedAromaAppearance = beerAromaAppearance.groupby(by = 'beer_style', as_index=False).aggregate({'review_aroma': 'mean', 'review_appearance' : ['mean', 'count']})\n",
    "groupedAromaAppearance.columns = [\"beer_style\", \"review_aroma_mean\", \"review_appearance_mean\", \"num_reviews\"]"
   ]
  },
  {
   "cell_type": "markdown",
   "metadata": {},
   "source": [
    "Get the mean value of the aroma and appearance reviews for each beer style\n",
    "<br>Get the number of reviews for each beer style"
   ]
  },
  {
   "cell_type": "code",
   "execution_count": null,
   "metadata": {},
   "outputs": [],
   "source": [
    "belowNumber100ReviewIndex = groupedAromaAppearance[groupedAromaAppearance['num_reviews'] < 100]\n",
    "if(len(belowNumber100ReviewIndex) != 0):\n",
    "    groupedAromaAppearance.drop(belowNumber100ReviewIndex, inplace=True)"
   ]
  },
  {
   "cell_type": "markdown",
   "metadata": {},
   "source": [
    "If necessary, remove any beer styles with an insufficient number of reviews. 100 is an arbitrary number"
   ]
  },
  {
   "cell_type": "code",
   "execution_count": null,
   "metadata": {},
   "outputs": [],
   "source": [
    "groupedAromaAppearance['review_aroma_appearance_sum'] = groupedAromaAppearance.apply(lambda x: x['review_aroma_mean'] + x['review_appearance_mean'], axis = 1)"
   ]
  },
  {
   "cell_type": "markdown",
   "metadata": {},
   "source": [
    "Add together the means of the aroma and appearance reviews\n",
    "<br>This will create a single value that will combine both aroma and appearance (both weighted evenly) for simpler evaluation\n",
    "<br>Getting the means or multiplication of the two means would work just as well"
   ]
  },
  {
   "cell_type": "code",
   "execution_count": null,
   "metadata": {},
   "outputs": [],
   "source": [
    "topTenSortedGroupedAromaAppearance = groupedAromaAppearance.sort_values(['review_aroma_appearance_sum'], ascending=False).head(10)"
   ]
  },
  {
   "cell_type": "markdown",
   "metadata": {},
   "source": [
    "For visualization, get the top ten beer styles with combined aroma and appearance"
   ]
  },
  {
   "cell_type": "code",
   "execution_count": 165,
   "metadata": {},
   "outputs": [
    {
     "data": {
      "text/html": [
       "<div>\n",
       "<style scoped>\n",
       "    .dataframe tbody tr th:only-of-type {\n",
       "        vertical-align: middle;\n",
       "    }\n",
       "\n",
       "    .dataframe tbody tr th {\n",
       "        vertical-align: top;\n",
       "    }\n",
       "\n",
       "    .dataframe thead th {\n",
       "        text-align: right;\n",
       "    }\n",
       "</style>\n",
       "<table border=\"1\" class=\"dataframe\">\n",
       "  <thead>\n",
       "    <tr style=\"text-align: right;\">\n",
       "      <th></th>\n",
       "      <th>beer_style</th>\n",
       "      <th>review_aroma_mean</th>\n",
       "      <th>review_appearance_mean</th>\n",
       "      <th>num_reviews</th>\n",
       "      <th>review_aroma_appearance_sum</th>\n",
       "    </tr>\n",
       "  </thead>\n",
       "  <tbody>\n",
       "    <tr>\n",
       "      <th>11</th>\n",
       "      <td>American Double / Imperial Stout</td>\n",
       "      <td>4.159607</td>\n",
       "      <td>4.162627</td>\n",
       "      <td>49838</td>\n",
       "      <td>8.322234</td>\n",
       "    </tr>\n",
       "    <tr>\n",
       "      <th>89</th>\n",
       "      <td>Russian Imperial Stout</td>\n",
       "      <td>4.075823</td>\n",
       "      <td>4.207959</td>\n",
       "      <td>52972</td>\n",
       "      <td>8.283782</td>\n",
       "    </tr>\n",
       "    <tr>\n",
       "      <th>86</th>\n",
       "      <td>Quadrupel (Quad)</td>\n",
       "      <td>4.132202</td>\n",
       "      <td>4.118076</td>\n",
       "      <td>17980</td>\n",
       "      <td>8.250278</td>\n",
       "    </tr>\n",
       "    <tr>\n",
       "      <th>9</th>\n",
       "      <td>American Double / Imperial IPA</td>\n",
       "      <td>4.095410</td>\n",
       "      <td>4.077118</td>\n",
       "      <td>84462</td>\n",
       "      <td>8.172527</td>\n",
       "    </tr>\n",
       "    <tr>\n",
       "      <th>63</th>\n",
       "      <td>Gueuze</td>\n",
       "      <td>4.116767</td>\n",
       "      <td>4.034353</td>\n",
       "      <td>5982</td>\n",
       "      <td>8.151120</td>\n",
       "    </tr>\n",
       "    <tr>\n",
       "      <th>20</th>\n",
       "      <td>American Wild Ale</td>\n",
       "      <td>4.125128</td>\n",
       "      <td>4.004029</td>\n",
       "      <td>17622</td>\n",
       "      <td>8.129157</td>\n",
       "    </tr>\n",
       "    <tr>\n",
       "      <th>41</th>\n",
       "      <td>Eisbock</td>\n",
       "      <td>4.155778</td>\n",
       "      <td>3.963557</td>\n",
       "      <td>2648</td>\n",
       "      <td>8.119335</td>\n",
       "    </tr>\n",
       "    <tr>\n",
       "      <th>4</th>\n",
       "      <td>American Barleywine</td>\n",
       "      <td>4.018423</td>\n",
       "      <td>4.035790</td>\n",
       "      <td>26488</td>\n",
       "      <td>8.054213</td>\n",
       "    </tr>\n",
       "    <tr>\n",
       "      <th>23</th>\n",
       "      <td>Belgian IPA</td>\n",
       "      <td>3.978969</td>\n",
       "      <td>4.075168</td>\n",
       "      <td>12339</td>\n",
       "      <td>8.054137</td>\n",
       "    </tr>\n",
       "    <tr>\n",
       "      <th>100</th>\n",
       "      <td>Weizenbock</td>\n",
       "      <td>4.043327</td>\n",
       "      <td>4.008087</td>\n",
       "      <td>9336</td>\n",
       "      <td>8.051414</td>\n",
       "    </tr>\n",
       "  </tbody>\n",
       "</table>\n",
       "</div>"
      ],
      "text/plain": [
       "                           beer_style  review_aroma_mean  \\\n",
       "11   American Double / Imperial Stout           4.159607   \n",
       "89             Russian Imperial Stout           4.075823   \n",
       "86                   Quadrupel (Quad)           4.132202   \n",
       "9      American Double / Imperial IPA           4.095410   \n",
       "63                             Gueuze           4.116767   \n",
       "20                  American Wild Ale           4.125128   \n",
       "41                            Eisbock           4.155778   \n",
       "4                 American Barleywine           4.018423   \n",
       "23                        Belgian IPA           3.978969   \n",
       "100                        Weizenbock           4.043327   \n",
       "\n",
       "     review_appearance_mean  num_reviews  review_aroma_appearance_sum  \n",
       "11                 4.162627        49838                     8.322234  \n",
       "89                 4.207959        52972                     8.283782  \n",
       "86                 4.118076        17980                     8.250278  \n",
       "9                  4.077118        84462                     8.172527  \n",
       "63                 4.034353         5982                     8.151120  \n",
       "20                 4.004029        17622                     8.129157  \n",
       "41                 3.963557         2648                     8.119335  \n",
       "4                  4.035790        26488                     8.054213  \n",
       "23                 4.075168        12339                     8.054137  \n",
       "100                4.008087         9336                     8.051414  "
      ]
     },
     "execution_count": 165,
     "metadata": {},
     "output_type": "execute_result"
    }
   ],
   "source": [
    "topTenSortedGroupedAromaAppearance"
   ]
  },
  {
   "cell_type": "code",
   "execution_count": 166,
   "metadata": {},
   "outputs": [
    {
     "data": {
      "text/plain": [
       "Text(0.5, 1.0, 'Top Ten Beer Styles By Aroma and Appearance Ratings')"
      ]
     },
     "execution_count": 166,
     "metadata": {},
     "output_type": "execute_result"
    },
    {
     "data": {
      "image/png": "[encoded data removed]",
      "text/plain": [
       "<Figure size 432x288 with 1 Axes>"
      ]
     },
     "metadata": {
      "needs_background": "light"
     },
     "output_type": "display_data"
    }
   ],
   "source": [
    "plt.barh(topTenSortedGroupedAromaAppearance.sort_values(by='review_aroma_appearance_sum')['beer_style'], topTenSortedGroupedAromaAppearance.sort_values(by = 'review_aroma_appearance_sum')['review_aroma_appearance_sum'], color = \"purple\")\n",
    "plt.xlim(8, 8.35)\n",
    "plt.xlabel(\"Aroma and Appearance Sum\")\n",
    "plt.ylabel(\"Beer Styles\")\n",
    "plt.title(\"Top Ten Beer Styles By Aroma and Appearance Ratings\")"
   ]
  },
  {
   "cell_type": "markdown",
   "metadata": {},
   "source": [
    "We can see here visually that American Double / Imperial Stout has the highest summation when considering just aroma and appearance only with both weighed the same"
   ]
  },
  {
   "cell_type": "markdown",
   "metadata": {},
   "source": [
    "# So based on the data, the recommendation would be \"American Double / Imperial Stout\" to people who enjoy a beer due to its aroma and appearance"
   ]
  },
  {
   "cell_type": "code",
   "execution_count": null,
   "metadata": {},
   "outputs": [],
   "source": []
  }
 ],
 "metadata": {
  "kernelspec": {
   "display_name": "Python 3",
   "language": "python",
   "name": "python3"
  },
  "language_info": {
   "codemirror_mode": {
    "name": "ipython",
    "version": 3
   },
   "file_extension": ".py",
   "mimetype": "text/x-python",
   "name": "python",
   "nbconvert_exporter": "python",
   "pygments_lexer": "ipython3",
   "version": "3.8.2"
  }
 },
 "nbformat": 4,
 "nbformat_minor": 4
}
